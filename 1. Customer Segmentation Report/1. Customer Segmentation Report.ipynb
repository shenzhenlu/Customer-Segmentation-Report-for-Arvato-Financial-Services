{
 "cells": [
  {
   "cell_type": "markdown",
   "metadata": {},
   "source": [
    "## Customer Segmentation Report\n",
    "\n",
    "The main bulk of your analysis will come in this part of the project. Here, you should use unsupervised learning techniques to describe the relationship between the demographics of the company's existing customers and the general population of Germany. By the end of this part, you should be able to describe parts of the general population that are more likely to be part of the mail-order company's main customer base, and which parts of the general population are less so."
   ]
  },
  {
   "cell_type": "code",
   "execution_count": 3,
   "metadata": {},
   "outputs": [],
   "source": [
    "# Import libraries \n",
    "import numpy as np\n",
    "import pandas as pd\n",
    "import matplotlib.pyplot as plt\n",
    "import seaborn as sns\n",
    "\n",
    "from sklearn.decomposition import PCA\n",
    "from sklearn.cluster import KMeans\n",
    "\n",
    "# Magic word for producing visualizations in notebook\n",
    "%matplotlib inline"
   ]
  },
  {
   "cell_type": "markdown",
   "metadata": {},
   "source": [
    "### 1. Load Data"
   ]
  },
  {
   "cell_type": "code",
   "execution_count": 4,
   "metadata": {},
   "outputs": [
    {
     "name": "stderr",
     "output_type": "stream",
     "text": [
      "/opt/anaconda3/lib/python3.7/site-packages/IPython/core/interactiveshell.py:3063: DtypeWarning: Columns (18,19) have mixed types.Specify dtype option on import or set low_memory=False.\n",
      "  interactivity=interactivity, compiler=compiler, result=result)\n"
     ]
    }
   ],
   "source": [
    "azdias = pd.read_csv('../arvato_data/Udacity_AZDIAS_052018.csv', sep=';')\n",
    "customers = pd.read_csv('../arvato_data/Udacity_CUSTOMERS_052018.csv', sep=';')"
   ]
  },
  {
   "cell_type": "code",
   "execution_count": 5,
   "metadata": {},
   "outputs": [
    {
     "name": "stdout",
     "output_type": "stream",
     "text": [
      "(891221, 366)\n",
      "(191652, 369)\n"
     ]
    }
   ],
   "source": [
    "# check out data dimension\n",
    "print(azdias.shape)\n",
    "print(customers.shape)"
   ]
  },
  {
   "cell_type": "code",
   "execution_count": 6,
   "metadata": {},
   "outputs": [
    {
     "data": {
      "text/html": [
       "<div>\n",
       "<style scoped>\n",
       "    .dataframe tbody tr th:only-of-type {\n",
       "        vertical-align: middle;\n",
       "    }\n",
       "\n",
       "    .dataframe tbody tr th {\n",
       "        vertical-align: top;\n",
       "    }\n",
       "\n",
       "    .dataframe thead th {\n",
       "        text-align: right;\n",
       "    }\n",
       "</style>\n",
       "<table border=\"1\" class=\"dataframe\">\n",
       "  <thead>\n",
       "    <tr style=\"text-align: right;\">\n",
       "      <th></th>\n",
       "      <th>LNR</th>\n",
       "      <th>AGER_TYP</th>\n",
       "      <th>AKT_DAT_KL</th>\n",
       "      <th>ALTER_HH</th>\n",
       "      <th>ALTER_KIND1</th>\n",
       "      <th>ALTER_KIND2</th>\n",
       "      <th>ALTER_KIND3</th>\n",
       "      <th>ALTER_KIND4</th>\n",
       "      <th>ALTERSKATEGORIE_FEIN</th>\n",
       "      <th>ANZ_HAUSHALTE_AKTIV</th>\n",
       "      <th>...</th>\n",
       "      <th>VHN</th>\n",
       "      <th>VK_DHT4A</th>\n",
       "      <th>VK_DISTANZ</th>\n",
       "      <th>VK_ZG11</th>\n",
       "      <th>W_KEIT_KIND_HH</th>\n",
       "      <th>WOHNDAUER_2008</th>\n",
       "      <th>WOHNLAGE</th>\n",
       "      <th>ZABEOTYP</th>\n",
       "      <th>ANREDE_KZ</th>\n",
       "      <th>ALTERSKATEGORIE_GROB</th>\n",
       "    </tr>\n",
       "  </thead>\n",
       "  <tbody>\n",
       "    <tr>\n",
       "      <th>0</th>\n",
       "      <td>910215</td>\n",
       "      <td>-1</td>\n",
       "      <td>NaN</td>\n",
       "      <td>NaN</td>\n",
       "      <td>NaN</td>\n",
       "      <td>NaN</td>\n",
       "      <td>NaN</td>\n",
       "      <td>NaN</td>\n",
       "      <td>NaN</td>\n",
       "      <td>NaN</td>\n",
       "      <td>...</td>\n",
       "      <td>NaN</td>\n",
       "      <td>NaN</td>\n",
       "      <td>NaN</td>\n",
       "      <td>NaN</td>\n",
       "      <td>NaN</td>\n",
       "      <td>NaN</td>\n",
       "      <td>NaN</td>\n",
       "      <td>3</td>\n",
       "      <td>1</td>\n",
       "      <td>2</td>\n",
       "    </tr>\n",
       "    <tr>\n",
       "      <th>1</th>\n",
       "      <td>910220</td>\n",
       "      <td>-1</td>\n",
       "      <td>9.0</td>\n",
       "      <td>0.0</td>\n",
       "      <td>NaN</td>\n",
       "      <td>NaN</td>\n",
       "      <td>NaN</td>\n",
       "      <td>NaN</td>\n",
       "      <td>21.0</td>\n",
       "      <td>11.0</td>\n",
       "      <td>...</td>\n",
       "      <td>4.0</td>\n",
       "      <td>8.0</td>\n",
       "      <td>11.0</td>\n",
       "      <td>10.0</td>\n",
       "      <td>3.0</td>\n",
       "      <td>9.0</td>\n",
       "      <td>4.0</td>\n",
       "      <td>5</td>\n",
       "      <td>2</td>\n",
       "      <td>1</td>\n",
       "    </tr>\n",
       "    <tr>\n",
       "      <th>2</th>\n",
       "      <td>910225</td>\n",
       "      <td>-1</td>\n",
       "      <td>9.0</td>\n",
       "      <td>17.0</td>\n",
       "      <td>NaN</td>\n",
       "      <td>NaN</td>\n",
       "      <td>NaN</td>\n",
       "      <td>NaN</td>\n",
       "      <td>17.0</td>\n",
       "      <td>10.0</td>\n",
       "      <td>...</td>\n",
       "      <td>2.0</td>\n",
       "      <td>9.0</td>\n",
       "      <td>9.0</td>\n",
       "      <td>6.0</td>\n",
       "      <td>3.0</td>\n",
       "      <td>9.0</td>\n",
       "      <td>2.0</td>\n",
       "      <td>5</td>\n",
       "      <td>2</td>\n",
       "      <td>3</td>\n",
       "    </tr>\n",
       "    <tr>\n",
       "      <th>3</th>\n",
       "      <td>910226</td>\n",
       "      <td>2</td>\n",
       "      <td>1.0</td>\n",
       "      <td>13.0</td>\n",
       "      <td>NaN</td>\n",
       "      <td>NaN</td>\n",
       "      <td>NaN</td>\n",
       "      <td>NaN</td>\n",
       "      <td>13.0</td>\n",
       "      <td>1.0</td>\n",
       "      <td>...</td>\n",
       "      <td>0.0</td>\n",
       "      <td>7.0</td>\n",
       "      <td>10.0</td>\n",
       "      <td>11.0</td>\n",
       "      <td>NaN</td>\n",
       "      <td>9.0</td>\n",
       "      <td>7.0</td>\n",
       "      <td>3</td>\n",
       "      <td>2</td>\n",
       "      <td>4</td>\n",
       "    </tr>\n",
       "    <tr>\n",
       "      <th>4</th>\n",
       "      <td>910241</td>\n",
       "      <td>-1</td>\n",
       "      <td>1.0</td>\n",
       "      <td>20.0</td>\n",
       "      <td>NaN</td>\n",
       "      <td>NaN</td>\n",
       "      <td>NaN</td>\n",
       "      <td>NaN</td>\n",
       "      <td>14.0</td>\n",
       "      <td>3.0</td>\n",
       "      <td>...</td>\n",
       "      <td>2.0</td>\n",
       "      <td>3.0</td>\n",
       "      <td>5.0</td>\n",
       "      <td>4.0</td>\n",
       "      <td>2.0</td>\n",
       "      <td>9.0</td>\n",
       "      <td>3.0</td>\n",
       "      <td>4</td>\n",
       "      <td>1</td>\n",
       "      <td>3</td>\n",
       "    </tr>\n",
       "  </tbody>\n",
       "</table>\n",
       "<p>5 rows × 366 columns</p>\n",
       "</div>"
      ],
      "text/plain": [
       "      LNR  AGER_TYP  AKT_DAT_KL  ALTER_HH  ALTER_KIND1  ALTER_KIND2  \\\n",
       "0  910215        -1         NaN       NaN          NaN          NaN   \n",
       "1  910220        -1         9.0       0.0          NaN          NaN   \n",
       "2  910225        -1         9.0      17.0          NaN          NaN   \n",
       "3  910226         2         1.0      13.0          NaN          NaN   \n",
       "4  910241        -1         1.0      20.0          NaN          NaN   \n",
       "\n",
       "   ALTER_KIND3  ALTER_KIND4  ALTERSKATEGORIE_FEIN  ANZ_HAUSHALTE_AKTIV  ...  \\\n",
       "0          NaN          NaN                   NaN                  NaN  ...   \n",
       "1          NaN          NaN                  21.0                 11.0  ...   \n",
       "2          NaN          NaN                  17.0                 10.0  ...   \n",
       "3          NaN          NaN                  13.0                  1.0  ...   \n",
       "4          NaN          NaN                  14.0                  3.0  ...   \n",
       "\n",
       "   VHN  VK_DHT4A  VK_DISTANZ  VK_ZG11  W_KEIT_KIND_HH  WOHNDAUER_2008  \\\n",
       "0  NaN       NaN         NaN      NaN             NaN             NaN   \n",
       "1  4.0       8.0        11.0     10.0             3.0             9.0   \n",
       "2  2.0       9.0         9.0      6.0             3.0             9.0   \n",
       "3  0.0       7.0        10.0     11.0             NaN             9.0   \n",
       "4  2.0       3.0         5.0      4.0             2.0             9.0   \n",
       "\n",
       "   WOHNLAGE ZABEOTYP ANREDE_KZ ALTERSKATEGORIE_GROB  \n",
       "0       NaN        3         1                    2  \n",
       "1       4.0        5         2                    1  \n",
       "2       2.0        5         2                    3  \n",
       "3       7.0        3         2                    4  \n",
       "4       3.0        4         1                    3  \n",
       "\n",
       "[5 rows x 366 columns]"
      ]
     },
     "execution_count": 6,
     "metadata": {},
     "output_type": "execute_result"
    }
   ],
   "source": [
    "azdias.head()"
   ]
  },
  {
   "cell_type": "code",
   "execution_count": 7,
   "metadata": {},
   "outputs": [
    {
     "data": {
      "text/html": [
       "<div>\n",
       "<style scoped>\n",
       "    .dataframe tbody tr th:only-of-type {\n",
       "        vertical-align: middle;\n",
       "    }\n",
       "\n",
       "    .dataframe tbody tr th {\n",
       "        vertical-align: top;\n",
       "    }\n",
       "\n",
       "    .dataframe thead th {\n",
       "        text-align: right;\n",
       "    }\n",
       "</style>\n",
       "<table border=\"1\" class=\"dataframe\">\n",
       "  <thead>\n",
       "    <tr style=\"text-align: right;\">\n",
       "      <th></th>\n",
       "      <th>LNR</th>\n",
       "      <th>AGER_TYP</th>\n",
       "      <th>AKT_DAT_KL</th>\n",
       "      <th>ALTER_HH</th>\n",
       "      <th>ALTER_KIND1</th>\n",
       "      <th>ALTER_KIND2</th>\n",
       "      <th>ALTER_KIND3</th>\n",
       "      <th>ALTER_KIND4</th>\n",
       "      <th>ALTERSKATEGORIE_FEIN</th>\n",
       "      <th>ANZ_HAUSHALTE_AKTIV</th>\n",
       "      <th>...</th>\n",
       "      <th>VK_ZG11</th>\n",
       "      <th>W_KEIT_KIND_HH</th>\n",
       "      <th>WOHNDAUER_2008</th>\n",
       "      <th>WOHNLAGE</th>\n",
       "      <th>ZABEOTYP</th>\n",
       "      <th>PRODUCT_GROUP</th>\n",
       "      <th>CUSTOMER_GROUP</th>\n",
       "      <th>ONLINE_PURCHASE</th>\n",
       "      <th>ANREDE_KZ</th>\n",
       "      <th>ALTERSKATEGORIE_GROB</th>\n",
       "    </tr>\n",
       "  </thead>\n",
       "  <tbody>\n",
       "    <tr>\n",
       "      <th>0</th>\n",
       "      <td>9626</td>\n",
       "      <td>2</td>\n",
       "      <td>1.0</td>\n",
       "      <td>10.0</td>\n",
       "      <td>NaN</td>\n",
       "      <td>NaN</td>\n",
       "      <td>NaN</td>\n",
       "      <td>NaN</td>\n",
       "      <td>10.0</td>\n",
       "      <td>1.0</td>\n",
       "      <td>...</td>\n",
       "      <td>2.0</td>\n",
       "      <td>6.0</td>\n",
       "      <td>9.0</td>\n",
       "      <td>7.0</td>\n",
       "      <td>3</td>\n",
       "      <td>COSMETIC_AND_FOOD</td>\n",
       "      <td>MULTI_BUYER</td>\n",
       "      <td>0</td>\n",
       "      <td>1</td>\n",
       "      <td>4</td>\n",
       "    </tr>\n",
       "    <tr>\n",
       "      <th>1</th>\n",
       "      <td>9628</td>\n",
       "      <td>-1</td>\n",
       "      <td>9.0</td>\n",
       "      <td>11.0</td>\n",
       "      <td>NaN</td>\n",
       "      <td>NaN</td>\n",
       "      <td>NaN</td>\n",
       "      <td>NaN</td>\n",
       "      <td>NaN</td>\n",
       "      <td>NaN</td>\n",
       "      <td>...</td>\n",
       "      <td>3.0</td>\n",
       "      <td>0.0</td>\n",
       "      <td>9.0</td>\n",
       "      <td>NaN</td>\n",
       "      <td>3</td>\n",
       "      <td>FOOD</td>\n",
       "      <td>SINGLE_BUYER</td>\n",
       "      <td>0</td>\n",
       "      <td>1</td>\n",
       "      <td>4</td>\n",
       "    </tr>\n",
       "    <tr>\n",
       "      <th>2</th>\n",
       "      <td>143872</td>\n",
       "      <td>-1</td>\n",
       "      <td>1.0</td>\n",
       "      <td>6.0</td>\n",
       "      <td>NaN</td>\n",
       "      <td>NaN</td>\n",
       "      <td>NaN</td>\n",
       "      <td>NaN</td>\n",
       "      <td>0.0</td>\n",
       "      <td>1.0</td>\n",
       "      <td>...</td>\n",
       "      <td>11.0</td>\n",
       "      <td>6.0</td>\n",
       "      <td>9.0</td>\n",
       "      <td>2.0</td>\n",
       "      <td>3</td>\n",
       "      <td>COSMETIC_AND_FOOD</td>\n",
       "      <td>MULTI_BUYER</td>\n",
       "      <td>0</td>\n",
       "      <td>2</td>\n",
       "      <td>4</td>\n",
       "    </tr>\n",
       "    <tr>\n",
       "      <th>3</th>\n",
       "      <td>143873</td>\n",
       "      <td>1</td>\n",
       "      <td>1.0</td>\n",
       "      <td>8.0</td>\n",
       "      <td>NaN</td>\n",
       "      <td>NaN</td>\n",
       "      <td>NaN</td>\n",
       "      <td>NaN</td>\n",
       "      <td>8.0</td>\n",
       "      <td>0.0</td>\n",
       "      <td>...</td>\n",
       "      <td>2.0</td>\n",
       "      <td>NaN</td>\n",
       "      <td>9.0</td>\n",
       "      <td>7.0</td>\n",
       "      <td>1</td>\n",
       "      <td>COSMETIC</td>\n",
       "      <td>MULTI_BUYER</td>\n",
       "      <td>0</td>\n",
       "      <td>1</td>\n",
       "      <td>4</td>\n",
       "    </tr>\n",
       "    <tr>\n",
       "      <th>4</th>\n",
       "      <td>143874</td>\n",
       "      <td>-1</td>\n",
       "      <td>1.0</td>\n",
       "      <td>20.0</td>\n",
       "      <td>NaN</td>\n",
       "      <td>NaN</td>\n",
       "      <td>NaN</td>\n",
       "      <td>NaN</td>\n",
       "      <td>14.0</td>\n",
       "      <td>7.0</td>\n",
       "      <td>...</td>\n",
       "      <td>4.0</td>\n",
       "      <td>2.0</td>\n",
       "      <td>9.0</td>\n",
       "      <td>3.0</td>\n",
       "      <td>1</td>\n",
       "      <td>FOOD</td>\n",
       "      <td>MULTI_BUYER</td>\n",
       "      <td>0</td>\n",
       "      <td>1</td>\n",
       "      <td>3</td>\n",
       "    </tr>\n",
       "  </tbody>\n",
       "</table>\n",
       "<p>5 rows × 369 columns</p>\n",
       "</div>"
      ],
      "text/plain": [
       "      LNR  AGER_TYP  AKT_DAT_KL  ALTER_HH  ALTER_KIND1  ALTER_KIND2  \\\n",
       "0    9626         2         1.0      10.0          NaN          NaN   \n",
       "1    9628        -1         9.0      11.0          NaN          NaN   \n",
       "2  143872        -1         1.0       6.0          NaN          NaN   \n",
       "3  143873         1         1.0       8.0          NaN          NaN   \n",
       "4  143874        -1         1.0      20.0          NaN          NaN   \n",
       "\n",
       "   ALTER_KIND3  ALTER_KIND4  ALTERSKATEGORIE_FEIN  ANZ_HAUSHALTE_AKTIV  ...  \\\n",
       "0          NaN          NaN                  10.0                  1.0  ...   \n",
       "1          NaN          NaN                   NaN                  NaN  ...   \n",
       "2          NaN          NaN                   0.0                  1.0  ...   \n",
       "3          NaN          NaN                   8.0                  0.0  ...   \n",
       "4          NaN          NaN                  14.0                  7.0  ...   \n",
       "\n",
       "   VK_ZG11  W_KEIT_KIND_HH  WOHNDAUER_2008  WOHNLAGE  ZABEOTYP  \\\n",
       "0      2.0             6.0             9.0       7.0         3   \n",
       "1      3.0             0.0             9.0       NaN         3   \n",
       "2     11.0             6.0             9.0       2.0         3   \n",
       "3      2.0             NaN             9.0       7.0         1   \n",
       "4      4.0             2.0             9.0       3.0         1   \n",
       "\n",
       "       PRODUCT_GROUP  CUSTOMER_GROUP ONLINE_PURCHASE ANREDE_KZ  \\\n",
       "0  COSMETIC_AND_FOOD     MULTI_BUYER               0         1   \n",
       "1               FOOD    SINGLE_BUYER               0         1   \n",
       "2  COSMETIC_AND_FOOD     MULTI_BUYER               0         2   \n",
       "3           COSMETIC     MULTI_BUYER               0         1   \n",
       "4               FOOD     MULTI_BUYER               0         1   \n",
       "\n",
       "  ALTERSKATEGORIE_GROB  \n",
       "0                    4  \n",
       "1                    4  \n",
       "2                    4  \n",
       "3                    4  \n",
       "4                    3  \n",
       "\n",
       "[5 rows x 369 columns]"
      ]
     },
     "execution_count": 7,
     "metadata": {},
     "output_type": "execute_result"
    }
   ],
   "source": [
    "customers.head()"
   ]
  },
  {
   "cell_type": "code",
   "execution_count": 8,
   "metadata": {},
   "outputs": [
    {
     "name": "stdout",
     "output_type": "stream",
     "text": [
      "['CUSTOMER_GROUP' 'ONLINE_PURCHASE' 'PRODUCT_GROUP']\n",
      "(191652, 366)\n"
     ]
    }
   ],
   "source": [
    "# remove redundant columns in customers data\n",
    "print(np.setdiff1d(customers.columns, azdias.columns))\n",
    "\n",
    "customers.drop(columns=['CUSTOMER_GROUP', 'ONLINE_PURCHASE', 'PRODUCT_GROUP'], inplace=True)\n",
    "print(customers.shape)"
   ]
  },
  {
   "cell_type": "code",
   "execution_count": 9,
   "metadata": {},
   "outputs": [],
   "source": [
    "# Concatenate azdias and customers data, add CLASS column containing class labels \n",
    "azdias['CLASS'] = 0\n",
    "customers['CLASS'] = 1\n",
    "demo_data = pd.concat([azdias, customers], axis=0)"
   ]
  },
  {
   "cell_type": "code",
   "execution_count": 10,
   "metadata": {},
   "outputs": [],
   "source": [
    "# Delete unused data to save space\n",
    "del azdias\n",
    "del customers"
   ]
  },
  {
   "cell_type": "code",
   "execution_count": 11,
   "metadata": {},
   "outputs": [],
   "source": [
    "# Store features and labels seperately\n",
    "demo_labels = demo_data['CLASS']\n",
    "demo_features = demo_data.drop(columns = ['CLASS'])"
   ]
  },
  {
   "cell_type": "code",
   "execution_count": 12,
   "metadata": {},
   "outputs": [],
   "source": [
    "# Delete unused data to save space\n",
    "del demo_data"
   ]
  },
  {
   "cell_type": "code",
   "execution_count": 13,
   "metadata": {},
   "outputs": [
    {
     "data": {
      "text/html": [
       "<div>\n",
       "<style scoped>\n",
       "    .dataframe tbody tr th:only-of-type {\n",
       "        vertical-align: middle;\n",
       "    }\n",
       "\n",
       "    .dataframe tbody tr th {\n",
       "        vertical-align: top;\n",
       "    }\n",
       "\n",
       "    .dataframe thead th {\n",
       "        text-align: right;\n",
       "    }\n",
       "</style>\n",
       "<table border=\"1\" class=\"dataframe\">\n",
       "  <thead>\n",
       "    <tr style=\"text-align: right;\">\n",
       "      <th></th>\n",
       "      <th>LNR</th>\n",
       "      <th>AGER_TYP</th>\n",
       "      <th>AKT_DAT_KL</th>\n",
       "      <th>ALTER_HH</th>\n",
       "      <th>ALTER_KIND1</th>\n",
       "      <th>ALTER_KIND2</th>\n",
       "      <th>ALTER_KIND3</th>\n",
       "      <th>ALTER_KIND4</th>\n",
       "      <th>ALTERSKATEGORIE_FEIN</th>\n",
       "      <th>ANZ_HAUSHALTE_AKTIV</th>\n",
       "      <th>...</th>\n",
       "      <th>VHN</th>\n",
       "      <th>VK_DHT4A</th>\n",
       "      <th>VK_DISTANZ</th>\n",
       "      <th>VK_ZG11</th>\n",
       "      <th>W_KEIT_KIND_HH</th>\n",
       "      <th>WOHNDAUER_2008</th>\n",
       "      <th>WOHNLAGE</th>\n",
       "      <th>ZABEOTYP</th>\n",
       "      <th>ANREDE_KZ</th>\n",
       "      <th>ALTERSKATEGORIE_GROB</th>\n",
       "    </tr>\n",
       "  </thead>\n",
       "  <tbody>\n",
       "    <tr>\n",
       "      <th>0</th>\n",
       "      <td>910215</td>\n",
       "      <td>-1</td>\n",
       "      <td>NaN</td>\n",
       "      <td>NaN</td>\n",
       "      <td>NaN</td>\n",
       "      <td>NaN</td>\n",
       "      <td>NaN</td>\n",
       "      <td>NaN</td>\n",
       "      <td>NaN</td>\n",
       "      <td>NaN</td>\n",
       "      <td>...</td>\n",
       "      <td>NaN</td>\n",
       "      <td>NaN</td>\n",
       "      <td>NaN</td>\n",
       "      <td>NaN</td>\n",
       "      <td>NaN</td>\n",
       "      <td>NaN</td>\n",
       "      <td>NaN</td>\n",
       "      <td>3</td>\n",
       "      <td>1</td>\n",
       "      <td>2</td>\n",
       "    </tr>\n",
       "    <tr>\n",
       "      <th>1</th>\n",
       "      <td>910220</td>\n",
       "      <td>-1</td>\n",
       "      <td>9.0</td>\n",
       "      <td>0.0</td>\n",
       "      <td>NaN</td>\n",
       "      <td>NaN</td>\n",
       "      <td>NaN</td>\n",
       "      <td>NaN</td>\n",
       "      <td>21.0</td>\n",
       "      <td>11.0</td>\n",
       "      <td>...</td>\n",
       "      <td>4.0</td>\n",
       "      <td>8.0</td>\n",
       "      <td>11.0</td>\n",
       "      <td>10.0</td>\n",
       "      <td>3.0</td>\n",
       "      <td>9.0</td>\n",
       "      <td>4.0</td>\n",
       "      <td>5</td>\n",
       "      <td>2</td>\n",
       "      <td>1</td>\n",
       "    </tr>\n",
       "    <tr>\n",
       "      <th>2</th>\n",
       "      <td>910225</td>\n",
       "      <td>-1</td>\n",
       "      <td>9.0</td>\n",
       "      <td>17.0</td>\n",
       "      <td>NaN</td>\n",
       "      <td>NaN</td>\n",
       "      <td>NaN</td>\n",
       "      <td>NaN</td>\n",
       "      <td>17.0</td>\n",
       "      <td>10.0</td>\n",
       "      <td>...</td>\n",
       "      <td>2.0</td>\n",
       "      <td>9.0</td>\n",
       "      <td>9.0</td>\n",
       "      <td>6.0</td>\n",
       "      <td>3.0</td>\n",
       "      <td>9.0</td>\n",
       "      <td>2.0</td>\n",
       "      <td>5</td>\n",
       "      <td>2</td>\n",
       "      <td>3</td>\n",
       "    </tr>\n",
       "    <tr>\n",
       "      <th>3</th>\n",
       "      <td>910226</td>\n",
       "      <td>2</td>\n",
       "      <td>1.0</td>\n",
       "      <td>13.0</td>\n",
       "      <td>NaN</td>\n",
       "      <td>NaN</td>\n",
       "      <td>NaN</td>\n",
       "      <td>NaN</td>\n",
       "      <td>13.0</td>\n",
       "      <td>1.0</td>\n",
       "      <td>...</td>\n",
       "      <td>0.0</td>\n",
       "      <td>7.0</td>\n",
       "      <td>10.0</td>\n",
       "      <td>11.0</td>\n",
       "      <td>NaN</td>\n",
       "      <td>9.0</td>\n",
       "      <td>7.0</td>\n",
       "      <td>3</td>\n",
       "      <td>2</td>\n",
       "      <td>4</td>\n",
       "    </tr>\n",
       "    <tr>\n",
       "      <th>4</th>\n",
       "      <td>910241</td>\n",
       "      <td>-1</td>\n",
       "      <td>1.0</td>\n",
       "      <td>20.0</td>\n",
       "      <td>NaN</td>\n",
       "      <td>NaN</td>\n",
       "      <td>NaN</td>\n",
       "      <td>NaN</td>\n",
       "      <td>14.0</td>\n",
       "      <td>3.0</td>\n",
       "      <td>...</td>\n",
       "      <td>2.0</td>\n",
       "      <td>3.0</td>\n",
       "      <td>5.0</td>\n",
       "      <td>4.0</td>\n",
       "      <td>2.0</td>\n",
       "      <td>9.0</td>\n",
       "      <td>3.0</td>\n",
       "      <td>4</td>\n",
       "      <td>1</td>\n",
       "      <td>3</td>\n",
       "    </tr>\n",
       "  </tbody>\n",
       "</table>\n",
       "<p>5 rows × 366 columns</p>\n",
       "</div>"
      ],
      "text/plain": [
       "      LNR  AGER_TYP  AKT_DAT_KL  ALTER_HH  ALTER_KIND1  ALTER_KIND2  \\\n",
       "0  910215        -1         NaN       NaN          NaN          NaN   \n",
       "1  910220        -1         9.0       0.0          NaN          NaN   \n",
       "2  910225        -1         9.0      17.0          NaN          NaN   \n",
       "3  910226         2         1.0      13.0          NaN          NaN   \n",
       "4  910241        -1         1.0      20.0          NaN          NaN   \n",
       "\n",
       "   ALTER_KIND3  ALTER_KIND4  ALTERSKATEGORIE_FEIN  ANZ_HAUSHALTE_AKTIV  ...  \\\n",
       "0          NaN          NaN                   NaN                  NaN  ...   \n",
       "1          NaN          NaN                  21.0                 11.0  ...   \n",
       "2          NaN          NaN                  17.0                 10.0  ...   \n",
       "3          NaN          NaN                  13.0                  1.0  ...   \n",
       "4          NaN          NaN                  14.0                  3.0  ...   \n",
       "\n",
       "   VHN  VK_DHT4A  VK_DISTANZ  VK_ZG11  W_KEIT_KIND_HH  WOHNDAUER_2008  \\\n",
       "0  NaN       NaN         NaN      NaN             NaN             NaN   \n",
       "1  4.0       8.0        11.0     10.0             3.0             9.0   \n",
       "2  2.0       9.0         9.0      6.0             3.0             9.0   \n",
       "3  0.0       7.0        10.0     11.0             NaN             9.0   \n",
       "4  2.0       3.0         5.0      4.0             2.0             9.0   \n",
       "\n",
       "   WOHNLAGE ZABEOTYP ANREDE_KZ ALTERSKATEGORIE_GROB  \n",
       "0       NaN        3         1                    2  \n",
       "1       4.0        5         2                    1  \n",
       "2       2.0        5         2                    3  \n",
       "3       7.0        3         2                    4  \n",
       "4       3.0        4         1                    3  \n",
       "\n",
       "[5 rows x 366 columns]"
      ]
     },
     "execution_count": 13,
     "metadata": {},
     "output_type": "execute_result"
    }
   ],
   "source": [
    "demo_features.head()"
   ]
  },
  {
   "cell_type": "code",
   "execution_count": 14,
   "metadata": {
    "scrolled": true
   },
   "outputs": [
    {
     "name": "stdout",
     "output_type": "stream",
     "text": [
      "<class 'pandas.core.frame.DataFrame'>\n",
      "Int64Index: 1082873 entries, 0 to 191651\n",
      "Columns: 366 entries, LNR to ALTERSKATEGORIE_GROB\n",
      "dtypes: float64(267), int64(93), object(6)\n",
      "memory usage: 3.0+ GB\n"
     ]
    }
   ],
   "source": [
    "demo_features.info()"
   ]
  },
  {
   "cell_type": "markdown",
   "metadata": {},
   "source": [
    "### 2. Data Cleaning \n",
    "Based on the information files beening provied, there is 314 features with description; however, there is 366 features in the data. Let's check out the unique values of each feature against the description."
   ]
  },
  {
   "cell_type": "code",
   "execution_count": 15,
   "metadata": {},
   "outputs": [],
   "source": [
    "# Examinate unique values of each feature with a generator\n",
    "features_generator = (\"{}: {}\".format(feature_name, demo_features[feature_name].unique()) for feature_name in demo_features.columns)"
   ]
  },
  {
   "cell_type": "code",
   "execution_count": 16,
   "metadata": {},
   "outputs": [
    {
     "data": {
      "text/plain": [
       "'LNR: [910215 910220 910225 ... 148813 148852 148883]'"
      ]
     },
     "execution_count": 16,
     "metadata": {},
     "output_type": "execute_result"
    }
   ],
   "source": [
    "next(features_generator, \"ALL FEATURES EXAMINATED!\")"
   ]
  },
  {
   "cell_type": "markdown",
   "metadata": {},
   "source": [
    "#### Problems:\n",
    "1. A typo exists by feature _KBA13_CCM_1401_2500_\n",
    "2. Missing value indicators of several features are either not consistent with or can simply not been found in the information files\n",
    "3. A few features described in the information files don’t exist in the data; many features in the data don’t have corresponding descriptions in the information files; some features show up in both positions without consistent names"
   ]
  },
  {
   "cell_type": "markdown",
   "metadata": {},
   "source": [
    "#### Solutions:"
   ]
  },
  {
   "cell_type": "markdown",
   "metadata": {},
   "source": [
    "Creating a new speedsheet information file for reference: the column _Feature_ contains all feature names mentioned in the given information files without those not showing up in the data and the names are modified to align with column names of the data; _Description_ describes the features; _NaN Indicators_ missing or unknow values; _Type_ the statitical data type of features; _Notes_ additional comments."
   ]
  },
  {
   "cell_type": "code",
   "execution_count": 17,
   "metadata": {},
   "outputs": [],
   "source": [
    "# Load in the new information file \n",
    "features_info = pd.read_excel('../arvato_data/DIAS_features_info.xlsx').set_index('Feature')"
   ]
  },
  {
   "cell_type": "code",
   "execution_count": 18,
   "metadata": {
    "scrolled": false
   },
   "outputs": [
    {
     "data": {
      "text/html": [
       "<div>\n",
       "<style scoped>\n",
       "    .dataframe tbody tr th:only-of-type {\n",
       "        vertical-align: middle;\n",
       "    }\n",
       "\n",
       "    .dataframe tbody tr th {\n",
       "        vertical-align: top;\n",
       "    }\n",
       "\n",
       "    .dataframe thead th {\n",
       "        text-align: right;\n",
       "    }\n",
       "</style>\n",
       "<table border=\"1\" class=\"dataframe\">\n",
       "  <thead>\n",
       "    <tr style=\"text-align: right;\">\n",
       "      <th></th>\n",
       "      <th>Description</th>\n",
       "      <th>NaN_Indicators</th>\n",
       "      <th>Data_Type</th>\n",
       "      <th>Notes</th>\n",
       "    </tr>\n",
       "    <tr>\n",
       "      <th>Feature</th>\n",
       "      <th></th>\n",
       "      <th></th>\n",
       "      <th></th>\n",
       "      <th></th>\n",
       "    </tr>\n",
       "  </thead>\n",
       "  <tbody>\n",
       "    <tr>\n",
       "      <th>AGER_TYP</th>\n",
       "      <td>best-ager typology</td>\n",
       "      <td>-1</td>\n",
       "      <td>categorical</td>\n",
       "      <td>NaN</td>\n",
       "    </tr>\n",
       "    <tr>\n",
       "      <th>ALTERSKATEGORIE_GROB</th>\n",
       "      <td>age classification through prename analysis</td>\n",
       "      <td>-1, 0, 9</td>\n",
       "      <td>ordinal</td>\n",
       "      <td>NaN</td>\n",
       "    </tr>\n",
       "    <tr>\n",
       "      <th>ALTER_HH</th>\n",
       "      <td>main age within the household</td>\n",
       "      <td>0</td>\n",
       "      <td>ordinal</td>\n",
       "      <td>NaN</td>\n",
       "    </tr>\n",
       "    <tr>\n",
       "      <th>ANREDE_KZ</th>\n",
       "      <td>gender</td>\n",
       "      <td>-1, 0</td>\n",
       "      <td>categorical</td>\n",
       "      <td>NaN</td>\n",
       "    </tr>\n",
       "    <tr>\n",
       "      <th>ANZ_HAUSHALTE_AKTIV</th>\n",
       "      <td>number of households in the building</td>\n",
       "      <td>-1, 0</td>\n",
       "      <td>discrete</td>\n",
       "      <td>NaN indicators -1,0</td>\n",
       "    </tr>\n",
       "    <tr>\n",
       "      <th>ANZ_HH_TITEL</th>\n",
       "      <td>number of academic title holder in building</td>\n",
       "      <td>-1</td>\n",
       "      <td>discrete</td>\n",
       "      <td>NaN indicator -1</td>\n",
       "    </tr>\n",
       "    <tr>\n",
       "      <th>ANZ_PERSONEN</th>\n",
       "      <td>number of adult persons in the household</td>\n",
       "      <td>-1, 0</td>\n",
       "      <td>discrete</td>\n",
       "      <td>NaN indicators -1,0</td>\n",
       "    </tr>\n",
       "    <tr>\n",
       "      <th>ANZ_TITEL</th>\n",
       "      <td>number of professional title holder in household</td>\n",
       "      <td>-1</td>\n",
       "      <td>discrete</td>\n",
       "      <td>NaN indicator -1</td>\n",
       "    </tr>\n",
       "    <tr>\n",
       "      <th>BALLRAUM</th>\n",
       "      <td>distance to next urban centre</td>\n",
       "      <td>-1</td>\n",
       "      <td>ordinal</td>\n",
       "      <td>NaN</td>\n",
       "    </tr>\n",
       "    <tr>\n",
       "      <th>CAMEO_DEUG_2015</th>\n",
       "      <td>CAMEO classification 2015 - Uppergroup</td>\n",
       "      <td>-1</td>\n",
       "      <td>ordinal</td>\n",
       "      <td>NaN indicator -1</td>\n",
       "    </tr>\n",
       "  </tbody>\n",
       "</table>\n",
       "</div>"
      ],
      "text/plain": [
       "                                                            Description  \\\n",
       "Feature                                                                   \n",
       "AGER_TYP                                             best-ager typology   \n",
       "ALTERSKATEGORIE_GROB       age classification through prename analysis    \n",
       "ALTER_HH                                  main age within the household   \n",
       "ANREDE_KZ                                                        gender   \n",
       "ANZ_HAUSHALTE_AKTIV                number of households in the building   \n",
       "ANZ_HH_TITEL                number of academic title holder in building   \n",
       "ANZ_PERSONEN                   number of adult persons in the household   \n",
       "ANZ_TITEL             number of professional title holder in household    \n",
       "BALLRAUM                                 distance to next urban centre    \n",
       "CAMEO_DEUG_2015                  CAMEO classification 2015 - Uppergroup   \n",
       "\n",
       "                     NaN_Indicators    Data_Type                Notes  \n",
       "Feature                                                                \n",
       "AGER_TYP                         -1  categorical                  NaN  \n",
       "ALTERSKATEGORIE_GROB       -1, 0, 9      ordinal                  NaN  \n",
       "ALTER_HH                          0      ordinal                  NaN  \n",
       "ANREDE_KZ                     -1, 0  categorical                  NaN  \n",
       "ANZ_HAUSHALTE_AKTIV           -1, 0     discrete  NaN indicators -1,0  \n",
       "ANZ_HH_TITEL                     -1     discrete     NaN indicator -1  \n",
       "ANZ_PERSONEN                  -1, 0     discrete  NaN indicators -1,0  \n",
       "ANZ_TITEL                        -1     discrete     NaN indicator -1  \n",
       "BALLRAUM                         -1      ordinal                  NaN  \n",
       "CAMEO_DEUG_2015                  -1      ordinal     NaN indicator -1  "
      ]
     },
     "execution_count": 18,
     "metadata": {},
     "output_type": "execute_result"
    }
   ],
   "source": [
    "features_info.head(10)"
   ]
  },
  {
   "cell_type": "markdown",
   "metadata": {},
   "source": [
    "#### 1. Correct The Typo by Renaming Feature *KBA13_CCM_1401_2500*  with *KBA13_CCM_1400_2500* "
   ]
  },
  {
   "cell_type": "code",
   "execution_count": 19,
   "metadata": {},
   "outputs": [],
   "source": [
    "demo_features.rename({'KBA13_CCM_1401_2500': \"KBA13_CCM_1400_2500\"}, axis=1, inplace=True)"
   ]
  },
  {
   "cell_type": "code",
   "execution_count": 20,
   "metadata": {},
   "outputs": [
    {
     "name": "stdout",
     "output_type": "stream",
     "text": [
      "True\n"
     ]
    }
   ],
   "source": [
    "# Sanity Check\n",
    "print('KBA13_CCM_1400_2500' in demo_features.columns)"
   ]
  },
  {
   "cell_type": "markdown",
   "metadata": {},
   "source": [
    "#### 2. Replace Bad Missing Value Indicators with Proper Values and Correct the Data Types of Corresponding Features"
   ]
  },
  {
   "cell_type": "code",
   "execution_count": 21,
   "metadata": {},
   "outputs": [],
   "source": [
    "# Feature CAMEO_DEUG_2015\n",
    "demo_features.CAMEO_DEUG_2015 = demo_features.CAMEO_DEUG_2015.replace(['X', np.nan], -1).astype('int64')\n",
    "\n",
    "# Feature CAMEO_DEU_2015\n",
    "demo_features.CAMEO_DEU_2015 = demo_features.CAMEO_DEU_2015.replace(['XX', np.nan], -1)\n",
    "\n",
    "# Feature CAMEO_INTL_2015\n",
    "demo_features.CAMEO_INTL_2015 = demo_features.CAMEO_INTL_2015.replace(['XX', np.nan], -1).astype('int64')"
   ]
  },
  {
   "cell_type": "code",
   "execution_count": 22,
   "metadata": {},
   "outputs": [
    {
     "name": "stdout",
     "output_type": "stream",
     "text": [
      "CAMEO_DEUG_2015: [-1  8  4  2  6  1  9  5  7  3]\n",
      "CAMEO_DEU_2015: [-1 '8A' '4C' '2A' '6B' '8C' '4A' '2D' '1A' '1E' '9D' '5C' '8B' '7A' '5D'\n",
      " '9E' '9B' '1B' '3D' '4E' '4B' '3C' '5A' '7B' '9A' '6D' '6E' '2C' '7C'\n",
      " '9C' '7D' '5E' '1D' '8D' '6C' '6A' '5B' '4D' '3A' '2B' '7E' '3B' '6F'\n",
      " '5F' '1C']\n",
      "CAMEO_INTL_2015: [-1 51 24 12 43 54 22 14 13 15 33 41 34 55 25 23 31 52 35 45 44 32]\n"
     ]
    }
   ],
   "source": [
    "# Sanity Check\n",
    "print('CAMEO_DEUG_2015: {}'.format(demo_features.CAMEO_DEUG_2015.unique()))\n",
    "print('CAMEO_DEU_2015: {}'.format(demo_features.CAMEO_DEU_2015.unique()))\n",
    "print('CAMEO_INTL_2015: {}'.format(demo_features.CAMEO_INTL_2015.unique()))"
   ]
  },
  {
   "cell_type": "markdown",
   "metadata": {},
   "source": [
    "#### 3. Select Only Those Features with Descriptions (Exist in The Information File)"
   ]
  },
  {
   "cell_type": "code",
   "execution_count": 23,
   "metadata": {},
   "outputs": [],
   "source": [
    "demo_features = demo_features[features_info.index]"
   ]
  },
  {
   "cell_type": "code",
   "execution_count": 24,
   "metadata": {},
   "outputs": [
    {
     "data": {
      "text/html": [
       "<div>\n",
       "<style scoped>\n",
       "    .dataframe tbody tr th:only-of-type {\n",
       "        vertical-align: middle;\n",
       "    }\n",
       "\n",
       "    .dataframe tbody tr th {\n",
       "        vertical-align: top;\n",
       "    }\n",
       "\n",
       "    .dataframe thead th {\n",
       "        text-align: right;\n",
       "    }\n",
       "</style>\n",
       "<table border=\"1\" class=\"dataframe\">\n",
       "  <thead>\n",
       "    <tr style=\"text-align: right;\">\n",
       "      <th></th>\n",
       "      <th>AGER_TYP</th>\n",
       "      <th>ALTERSKATEGORIE_GROB</th>\n",
       "      <th>ALTER_HH</th>\n",
       "      <th>ANREDE_KZ</th>\n",
       "      <th>ANZ_HAUSHALTE_AKTIV</th>\n",
       "      <th>ANZ_HH_TITEL</th>\n",
       "      <th>ANZ_PERSONEN</th>\n",
       "      <th>ANZ_TITEL</th>\n",
       "      <th>BALLRAUM</th>\n",
       "      <th>CAMEO_DEUG_2015</th>\n",
       "      <th>...</th>\n",
       "      <th>SEMIO_TRADV</th>\n",
       "      <th>SEMIO_VERT</th>\n",
       "      <th>SHOPPER_TYP</th>\n",
       "      <th>SOHO_KZ</th>\n",
       "      <th>TITEL_KZ</th>\n",
       "      <th>VERS_TYP</th>\n",
       "      <th>WOHNDAUER_2008</th>\n",
       "      <th>WOHNLAGE</th>\n",
       "      <th>W_KEIT_KIND_HH</th>\n",
       "      <th>ZABEOTYP</th>\n",
       "    </tr>\n",
       "  </thead>\n",
       "  <tbody>\n",
       "    <tr>\n",
       "      <th>0</th>\n",
       "      <td>-1</td>\n",
       "      <td>2</td>\n",
       "      <td>NaN</td>\n",
       "      <td>1</td>\n",
       "      <td>NaN</td>\n",
       "      <td>NaN</td>\n",
       "      <td>NaN</td>\n",
       "      <td>NaN</td>\n",
       "      <td>NaN</td>\n",
       "      <td>-1</td>\n",
       "      <td>...</td>\n",
       "      <td>3</td>\n",
       "      <td>1</td>\n",
       "      <td>-1</td>\n",
       "      <td>NaN</td>\n",
       "      <td>NaN</td>\n",
       "      <td>-1</td>\n",
       "      <td>NaN</td>\n",
       "      <td>NaN</td>\n",
       "      <td>NaN</td>\n",
       "      <td>3</td>\n",
       "    </tr>\n",
       "    <tr>\n",
       "      <th>1</th>\n",
       "      <td>-1</td>\n",
       "      <td>1</td>\n",
       "      <td>0.0</td>\n",
       "      <td>2</td>\n",
       "      <td>11.0</td>\n",
       "      <td>0.0</td>\n",
       "      <td>2.0</td>\n",
       "      <td>0.0</td>\n",
       "      <td>6.0</td>\n",
       "      <td>8</td>\n",
       "      <td>...</td>\n",
       "      <td>6</td>\n",
       "      <td>1</td>\n",
       "      <td>3</td>\n",
       "      <td>1.0</td>\n",
       "      <td>0.0</td>\n",
       "      <td>2</td>\n",
       "      <td>9.0</td>\n",
       "      <td>4.0</td>\n",
       "      <td>3.0</td>\n",
       "      <td>5</td>\n",
       "    </tr>\n",
       "    <tr>\n",
       "      <th>2</th>\n",
       "      <td>-1</td>\n",
       "      <td>3</td>\n",
       "      <td>17.0</td>\n",
       "      <td>2</td>\n",
       "      <td>10.0</td>\n",
       "      <td>0.0</td>\n",
       "      <td>1.0</td>\n",
       "      <td>0.0</td>\n",
       "      <td>2.0</td>\n",
       "      <td>4</td>\n",
       "      <td>...</td>\n",
       "      <td>3</td>\n",
       "      <td>4</td>\n",
       "      <td>2</td>\n",
       "      <td>0.0</td>\n",
       "      <td>0.0</td>\n",
       "      <td>1</td>\n",
       "      <td>9.0</td>\n",
       "      <td>2.0</td>\n",
       "      <td>3.0</td>\n",
       "      <td>5</td>\n",
       "    </tr>\n",
       "    <tr>\n",
       "      <th>3</th>\n",
       "      <td>2</td>\n",
       "      <td>4</td>\n",
       "      <td>13.0</td>\n",
       "      <td>2</td>\n",
       "      <td>1.0</td>\n",
       "      <td>0.0</td>\n",
       "      <td>0.0</td>\n",
       "      <td>0.0</td>\n",
       "      <td>4.0</td>\n",
       "      <td>2</td>\n",
       "      <td>...</td>\n",
       "      <td>4</td>\n",
       "      <td>4</td>\n",
       "      <td>1</td>\n",
       "      <td>0.0</td>\n",
       "      <td>0.0</td>\n",
       "      <td>1</td>\n",
       "      <td>9.0</td>\n",
       "      <td>7.0</td>\n",
       "      <td>NaN</td>\n",
       "      <td>3</td>\n",
       "    </tr>\n",
       "    <tr>\n",
       "      <th>4</th>\n",
       "      <td>-1</td>\n",
       "      <td>3</td>\n",
       "      <td>20.0</td>\n",
       "      <td>1</td>\n",
       "      <td>3.0</td>\n",
       "      <td>0.0</td>\n",
       "      <td>4.0</td>\n",
       "      <td>0.0</td>\n",
       "      <td>2.0</td>\n",
       "      <td>6</td>\n",
       "      <td>...</td>\n",
       "      <td>2</td>\n",
       "      <td>7</td>\n",
       "      <td>2</td>\n",
       "      <td>0.0</td>\n",
       "      <td>0.0</td>\n",
       "      <td>2</td>\n",
       "      <td>9.0</td>\n",
       "      <td>3.0</td>\n",
       "      <td>2.0</td>\n",
       "      <td>4</td>\n",
       "    </tr>\n",
       "  </tbody>\n",
       "</table>\n",
       "<p>5 rows × 309 columns</p>\n",
       "</div>"
      ],
      "text/plain": [
       "   AGER_TYP  ALTERSKATEGORIE_GROB  ALTER_HH  ANREDE_KZ  ANZ_HAUSHALTE_AKTIV  \\\n",
       "0        -1                     2       NaN          1                  NaN   \n",
       "1        -1                     1       0.0          2                 11.0   \n",
       "2        -1                     3      17.0          2                 10.0   \n",
       "3         2                     4      13.0          2                  1.0   \n",
       "4        -1                     3      20.0          1                  3.0   \n",
       "\n",
       "   ANZ_HH_TITEL  ANZ_PERSONEN  ANZ_TITEL  BALLRAUM  CAMEO_DEUG_2015  ...  \\\n",
       "0           NaN           NaN        NaN       NaN               -1  ...   \n",
       "1           0.0           2.0        0.0       6.0                8  ...   \n",
       "2           0.0           1.0        0.0       2.0                4  ...   \n",
       "3           0.0           0.0        0.0       4.0                2  ...   \n",
       "4           0.0           4.0        0.0       2.0                6  ...   \n",
       "\n",
       "  SEMIO_TRADV  SEMIO_VERT  SHOPPER_TYP  SOHO_KZ  TITEL_KZ  VERS_TYP  \\\n",
       "0           3           1           -1      NaN       NaN        -1   \n",
       "1           6           1            3      1.0       0.0         2   \n",
       "2           3           4            2      0.0       0.0         1   \n",
       "3           4           4            1      0.0       0.0         1   \n",
       "4           2           7            2      0.0       0.0         2   \n",
       "\n",
       "   WOHNDAUER_2008  WOHNLAGE  W_KEIT_KIND_HH  ZABEOTYP  \n",
       "0             NaN       NaN             NaN         3  \n",
       "1             9.0       4.0             3.0         5  \n",
       "2             9.0       2.0             3.0         5  \n",
       "3             9.0       7.0             NaN         3  \n",
       "4             9.0       3.0             2.0         4  \n",
       "\n",
       "[5 rows x 309 columns]"
      ]
     },
     "execution_count": 24,
     "metadata": {},
     "output_type": "execute_result"
    }
   ],
   "source": [
    "demo_features.head()"
   ]
  },
  {
   "cell_type": "code",
   "execution_count": 25,
   "metadata": {},
   "outputs": [
    {
     "name": "stdout",
     "output_type": "stream",
     "text": [
      "<class 'pandas.core.frame.DataFrame'>\n",
      "Int64Index: 1082873 entries, 0 to 191651\n",
      "Columns: 309 entries, AGER_TYP to ZABEOTYP\n",
      "dtypes: float64(218), int64(89), object(2)\n",
      "memory usage: 2.5+ GB\n"
     ]
    }
   ],
   "source": [
    "demo_features.info()"
   ]
  },
  {
   "cell_type": "markdown",
   "metadata": {},
   "source": [
    "#### 4. Replace Missing Value Indicators with `np.nan` "
   ]
  },
  {
   "cell_type": "code",
   "execution_count": 26,
   "metadata": {},
   "outputs": [
    {
     "data": {
      "text/plain": [
       "array(['-1', '-1, 0, 9', '0', '-1, 0', '10', '-1, 9'], dtype=object)"
      ]
     },
     "execution_count": 26,
     "metadata": {},
     "output_type": "execute_result"
    }
   ],
   "source": [
    "# Look at unique values of missing value indicator\n",
    "features_info.NaN_Indicators.unique()"
   ]
  },
  {
   "cell_type": "code",
   "execution_count": 27,
   "metadata": {},
   "outputs": [],
   "source": [
    "# Replace all missing value indicators with np.nan\n",
    "NaN_indicators_list = []\n",
    "\n",
    "for NaN_indicator_str in features_info.NaN_Indicators:\n",
    "    NaN_indicators_list.append(list(map(int, NaN_indicator_str.split(','))))\n",
    "\n",
    "for i, NaN_indicator in enumerate(NaN_indicators_list):\n",
    "    demo_features.loc[:, demo_features.columns[i]].replace(NaN_indicator, np.nan, inplace=True)"
   ]
  },
  {
   "cell_type": "code",
   "execution_count": 28,
   "metadata": {},
   "outputs": [
    {
     "data": {
      "text/html": [
       "<div>\n",
       "<style scoped>\n",
       "    .dataframe tbody tr th:only-of-type {\n",
       "        vertical-align: middle;\n",
       "    }\n",
       "\n",
       "    .dataframe tbody tr th {\n",
       "        vertical-align: top;\n",
       "    }\n",
       "\n",
       "    .dataframe thead th {\n",
       "        text-align: right;\n",
       "    }\n",
       "</style>\n",
       "<table border=\"1\" class=\"dataframe\">\n",
       "  <thead>\n",
       "    <tr style=\"text-align: right;\">\n",
       "      <th></th>\n",
       "      <th>AGER_TYP</th>\n",
       "      <th>ALTERSKATEGORIE_GROB</th>\n",
       "      <th>ALTER_HH</th>\n",
       "      <th>ANREDE_KZ</th>\n",
       "      <th>ANZ_HAUSHALTE_AKTIV</th>\n",
       "      <th>ANZ_HH_TITEL</th>\n",
       "      <th>ANZ_PERSONEN</th>\n",
       "      <th>ANZ_TITEL</th>\n",
       "      <th>BALLRAUM</th>\n",
       "      <th>CAMEO_DEUG_2015</th>\n",
       "      <th>...</th>\n",
       "      <th>SEMIO_TRADV</th>\n",
       "      <th>SEMIO_VERT</th>\n",
       "      <th>SHOPPER_TYP</th>\n",
       "      <th>SOHO_KZ</th>\n",
       "      <th>TITEL_KZ</th>\n",
       "      <th>VERS_TYP</th>\n",
       "      <th>WOHNDAUER_2008</th>\n",
       "      <th>WOHNLAGE</th>\n",
       "      <th>W_KEIT_KIND_HH</th>\n",
       "      <th>ZABEOTYP</th>\n",
       "    </tr>\n",
       "  </thead>\n",
       "  <tbody>\n",
       "    <tr>\n",
       "      <th>0</th>\n",
       "      <td>NaN</td>\n",
       "      <td>2.0</td>\n",
       "      <td>NaN</td>\n",
       "      <td>1</td>\n",
       "      <td>NaN</td>\n",
       "      <td>NaN</td>\n",
       "      <td>NaN</td>\n",
       "      <td>NaN</td>\n",
       "      <td>NaN</td>\n",
       "      <td>NaN</td>\n",
       "      <td>...</td>\n",
       "      <td>3</td>\n",
       "      <td>1</td>\n",
       "      <td>NaN</td>\n",
       "      <td>NaN</td>\n",
       "      <td>NaN</td>\n",
       "      <td>NaN</td>\n",
       "      <td>NaN</td>\n",
       "      <td>NaN</td>\n",
       "      <td>NaN</td>\n",
       "      <td>3</td>\n",
       "    </tr>\n",
       "    <tr>\n",
       "      <th>1</th>\n",
       "      <td>NaN</td>\n",
       "      <td>1.0</td>\n",
       "      <td>NaN</td>\n",
       "      <td>2</td>\n",
       "      <td>11.0</td>\n",
       "      <td>0.0</td>\n",
       "      <td>2.0</td>\n",
       "      <td>0.0</td>\n",
       "      <td>6.0</td>\n",
       "      <td>8.0</td>\n",
       "      <td>...</td>\n",
       "      <td>6</td>\n",
       "      <td>1</td>\n",
       "      <td>3.0</td>\n",
       "      <td>1.0</td>\n",
       "      <td>NaN</td>\n",
       "      <td>2.0</td>\n",
       "      <td>9.0</td>\n",
       "      <td>4.0</td>\n",
       "      <td>3.0</td>\n",
       "      <td>5</td>\n",
       "    </tr>\n",
       "    <tr>\n",
       "      <th>2</th>\n",
       "      <td>NaN</td>\n",
       "      <td>3.0</td>\n",
       "      <td>17.0</td>\n",
       "      <td>2</td>\n",
       "      <td>10.0</td>\n",
       "      <td>0.0</td>\n",
       "      <td>1.0</td>\n",
       "      <td>0.0</td>\n",
       "      <td>2.0</td>\n",
       "      <td>4.0</td>\n",
       "      <td>...</td>\n",
       "      <td>3</td>\n",
       "      <td>4</td>\n",
       "      <td>2.0</td>\n",
       "      <td>0.0</td>\n",
       "      <td>NaN</td>\n",
       "      <td>1.0</td>\n",
       "      <td>9.0</td>\n",
       "      <td>2.0</td>\n",
       "      <td>3.0</td>\n",
       "      <td>5</td>\n",
       "    </tr>\n",
       "    <tr>\n",
       "      <th>3</th>\n",
       "      <td>2.0</td>\n",
       "      <td>4.0</td>\n",
       "      <td>13.0</td>\n",
       "      <td>2</td>\n",
       "      <td>1.0</td>\n",
       "      <td>0.0</td>\n",
       "      <td>NaN</td>\n",
       "      <td>0.0</td>\n",
       "      <td>4.0</td>\n",
       "      <td>2.0</td>\n",
       "      <td>...</td>\n",
       "      <td>4</td>\n",
       "      <td>4</td>\n",
       "      <td>1.0</td>\n",
       "      <td>0.0</td>\n",
       "      <td>NaN</td>\n",
       "      <td>1.0</td>\n",
       "      <td>9.0</td>\n",
       "      <td>7.0</td>\n",
       "      <td>NaN</td>\n",
       "      <td>3</td>\n",
       "    </tr>\n",
       "    <tr>\n",
       "      <th>4</th>\n",
       "      <td>NaN</td>\n",
       "      <td>3.0</td>\n",
       "      <td>20.0</td>\n",
       "      <td>1</td>\n",
       "      <td>3.0</td>\n",
       "      <td>0.0</td>\n",
       "      <td>4.0</td>\n",
       "      <td>0.0</td>\n",
       "      <td>2.0</td>\n",
       "      <td>6.0</td>\n",
       "      <td>...</td>\n",
       "      <td>2</td>\n",
       "      <td>7</td>\n",
       "      <td>2.0</td>\n",
       "      <td>0.0</td>\n",
       "      <td>NaN</td>\n",
       "      <td>2.0</td>\n",
       "      <td>9.0</td>\n",
       "      <td>3.0</td>\n",
       "      <td>2.0</td>\n",
       "      <td>4</td>\n",
       "    </tr>\n",
       "  </tbody>\n",
       "</table>\n",
       "<p>5 rows × 309 columns</p>\n",
       "</div>"
      ],
      "text/plain": [
       "   AGER_TYP  ALTERSKATEGORIE_GROB  ALTER_HH  ANREDE_KZ  ANZ_HAUSHALTE_AKTIV  \\\n",
       "0       NaN                   2.0       NaN          1                  NaN   \n",
       "1       NaN                   1.0       NaN          2                 11.0   \n",
       "2       NaN                   3.0      17.0          2                 10.0   \n",
       "3       2.0                   4.0      13.0          2                  1.0   \n",
       "4       NaN                   3.0      20.0          1                  3.0   \n",
       "\n",
       "   ANZ_HH_TITEL  ANZ_PERSONEN  ANZ_TITEL  BALLRAUM  CAMEO_DEUG_2015  ...  \\\n",
       "0           NaN           NaN        NaN       NaN              NaN  ...   \n",
       "1           0.0           2.0        0.0       6.0              8.0  ...   \n",
       "2           0.0           1.0        0.0       2.0              4.0  ...   \n",
       "3           0.0           NaN        0.0       4.0              2.0  ...   \n",
       "4           0.0           4.0        0.0       2.0              6.0  ...   \n",
       "\n",
       "  SEMIO_TRADV  SEMIO_VERT  SHOPPER_TYP  SOHO_KZ  TITEL_KZ  VERS_TYP  \\\n",
       "0           3           1          NaN      NaN       NaN       NaN   \n",
       "1           6           1          3.0      1.0       NaN       2.0   \n",
       "2           3           4          2.0      0.0       NaN       1.0   \n",
       "3           4           4          1.0      0.0       NaN       1.0   \n",
       "4           2           7          2.0      0.0       NaN       2.0   \n",
       "\n",
       "   WOHNDAUER_2008  WOHNLAGE  W_KEIT_KIND_HH  ZABEOTYP  \n",
       "0             NaN       NaN             NaN         3  \n",
       "1             9.0       4.0             3.0         5  \n",
       "2             9.0       2.0             3.0         5  \n",
       "3             9.0       7.0             NaN         3  \n",
       "4             9.0       3.0             2.0         4  \n",
       "\n",
       "[5 rows x 309 columns]"
      ]
     },
     "execution_count": 28,
     "metadata": {},
     "output_type": "execute_result"
    }
   ],
   "source": [
    "demo_features_clean = demo_features\n",
    "\n",
    "demo_features_clean.head()"
   ]
  },
  {
   "cell_type": "code",
   "execution_count": 29,
   "metadata": {},
   "outputs": [],
   "source": [
    "# Delete unused data to save space\n",
    "del demo_features"
   ]
  },
  {
   "cell_type": "markdown",
   "metadata": {},
   "source": [
    "### 3. Data Preprocessing\n",
    "In this part, we will remove data with high missing value proportion, then process the remaining features according to their statistical data types."
   ]
  },
  {
   "cell_type": "code",
   "execution_count": 30,
   "metadata": {},
   "outputs": [
    {
     "data": {
      "text/plain": [
       "(1082873, 309)"
      ]
     },
     "execution_count": 30,
     "metadata": {},
     "output_type": "execute_result"
    }
   ],
   "source": [
    "demo_features_clean.shape"
   ]
  },
  {
   "cell_type": "markdown",
   "metadata": {},
   "source": [
    "#### 1. Remove Rows & Columns with Too Many Missing Values"
   ]
  },
  {
   "cell_type": "markdown",
   "metadata": {},
   "source": [
    "##### Columns"
   ]
  },
  {
   "cell_type": "code",
   "execution_count": 31,
   "metadata": {},
   "outputs": [
    {
     "data": {
      "image/png": "[encoded data removed]",
      "text/plain": [
       "<Figure size 720x360 with 1 Axes>"
      ]
     },
     "metadata": {
      "needs_background": "light"
     },
     "output_type": "display_data"
    }
   ],
   "source": [
    "# Plot missing value distribution along columns\n",
    "NaN_prop_cols = demo_features_clean.isna().mean(axis=0)\n",
    "\n",
    "plt.figure(figsize = (10, 5))\n",
    "NaN_prop_cols.plot(kind='hist', bins=20)\n",
    "plt.xlabel('Missing Value Ratio')\n",
    "plt.title('Missing Values by Column')\n",
    "\n",
    "plt.show()"
   ]
  },
  {
   "cell_type": "code",
   "execution_count": 32,
   "metadata": {},
   "outputs": [],
   "source": [
    "# Threshold for columns is 20%\n",
    "NaN_thresh_cols = 0.2"
   ]
  },
  {
   "cell_type": "code",
   "execution_count": 33,
   "metadata": {},
   "outputs": [],
   "source": [
    "# Subset columns with the threshold  \n",
    "index_cols_sub = NaN_prop_cols < NaN_thresh_cols\n",
    "\n",
    "demo_features_sub = demo_features_clean.loc[:, index_cols_sub]"
   ]
  },
  {
   "cell_type": "code",
   "execution_count": 34,
   "metadata": {
    "scrolled": true
   },
   "outputs": [
    {
     "data": {
      "text/plain": [
       "(1082873, 242)"
      ]
     },
     "execution_count": 34,
     "metadata": {},
     "output_type": "execute_result"
    }
   ],
   "source": [
    "demo_features_sub.shape"
   ]
  },
  {
   "cell_type": "code",
   "execution_count": 35,
   "metadata": {},
   "outputs": [
    {
     "data": {
      "image/png": "[encoded data removed]",
      "text/plain": [
       "<Figure size 1080x360 with 2 Axes>"
      ]
     },
     "metadata": {
      "needs_background": "light"
     },
     "output_type": "display_data"
    }
   ],
   "source": [
    "# Sanity Check\n",
    "# Plot missing value distribution of the remaining columns of the 2 classes\n",
    "plt.figure(figsize = (15, 5))\n",
    "\n",
    "plt.subplot(1, 2, 1)\n",
    "demo_features_sub[demo_labels==0].isna().mean(axis=0).plot(kind='hist')\n",
    "plt.title('Azdias')\n",
    "plt.xlabel('Column Missing Value Ratio')\n",
    "plt.xticks(np.arange(0, 1, step=0.2))\n",
    "\n",
    "plt.subplot(1, 2, 2)\n",
    "demo_features_sub[demo_labels==1].isna().mean(axis=0).plot(kind='hist')\n",
    "plt.title('Customers')\n",
    "plt.xlabel('Column Missing Value Ratio')\n",
    "plt.xticks(np.arange(0, 1, step=0.2))\n",
    "\n",
    "plt.show()"
   ]
  },
  {
   "cell_type": "markdown",
   "metadata": {},
   "source": [
    "As a matter of fact, the missing value proportion of customers is generally higher as azdias. Overall, the chosen threshold  was ok."
   ]
  },
  {
   "cell_type": "markdown",
   "metadata": {},
   "source": [
    "##### Rows"
   ]
  },
  {
   "cell_type": "code",
   "execution_count": 36,
   "metadata": {},
   "outputs": [
    {
     "data": {
      "image/png": "[encoded data removed]",
      "text/plain": [
       "<Figure size 720x360 with 1 Axes>"
      ]
     },
     "metadata": {
      "needs_background": "light"
     },
     "output_type": "display_data"
    }
   ],
   "source": [
    "# Plot missing value distribution along the rows\n",
    "NaN_prop_rows = demo_features_sub.isna().mean(axis=1)\n",
    "\n",
    "plt.figure(figsize = (10, 5))\n",
    "NaN_prop_rows.plot(kind='hist', bins=20)\n",
    "plt.xlabel('Missing Value Ratio')\n",
    "plt.title('Missing Values by Row')\n",
    "\n",
    "plt.show()"
   ]
  },
  {
   "cell_type": "code",
   "execution_count": 37,
   "metadata": {},
   "outputs": [],
   "source": [
    "# Set row threshold to 40%\n",
    "NaN_thresh_rows = 0.4"
   ]
  },
  {
   "cell_type": "code",
   "execution_count": 38,
   "metadata": {},
   "outputs": [],
   "source": [
    "# Subset rows with row threshold  \n",
    "index_rows_sub = NaN_prop_rows < NaN_thresh_rows\n",
    "\n",
    "demo_features_sub = demo_features_sub.loc[index_rows_sub, :]\n",
    "\n",
    "demo_labels_sub = demo_labels[index_rows_sub]"
   ]
  },
  {
   "cell_type": "code",
   "execution_count": 39,
   "metadata": {
    "scrolled": false
   },
   "outputs": [
    {
     "data": {
      "image/png": "[encoded data removed]",
      "text/plain": [
       "<Figure size 1080x360 with 2 Axes>"
      ]
     },
     "metadata": {
      "needs_background": "light"
     },
     "output_type": "display_data"
    }
   ],
   "source": [
    "# Sanity Check\n",
    "# Plot class distributions before and after subsetting\n",
    "plt.figure(figsize=(15, 5))\n",
    "\n",
    "plt.subplot(1, 2, 1)\n",
    "demo_labels.value_counts().plot(kind='bar')\n",
    "plt.yticks(np.arange(0, 1100000, step=100000))\n",
    "plt.xlabel('Class')\n",
    "plt.ylabel('Frequency')\n",
    "plt.title('Original Data')\n",
    "\n",
    "plt.subplot(1, 2, 2)\n",
    "demo_labels_sub.value_counts().plot(kind='bar')\n",
    "plt.yticks(np.arange(0, 1100000, step=100000))\n",
    "plt.xlabel('Class')\n",
    "plt.ylabel('Frequency')\n",
    "plt.title('Subset Data')\n",
    "\n",
    "plt.show()"
   ]
  },
  {
   "cell_type": "markdown",
   "metadata": {},
   "source": [
    "As it showed, deleteing those rows has very little impact of class distributions."
   ]
  },
  {
   "cell_type": "code",
   "execution_count": 40,
   "metadata": {},
   "outputs": [],
   "source": [
    "# Reset the index\n",
    "demo_features_sub.reset_index(drop=True, inplace=True)\n",
    "\n",
    "demo_labels_sub.reset_index(drop=True, inplace=True)"
   ]
  },
  {
   "cell_type": "code",
   "execution_count": 41,
   "metadata": {},
   "outputs": [
    {
     "name": "stdout",
     "output_type": "stream",
     "text": [
      "(925792, 242)\n",
      "(925792,)\n"
     ]
    }
   ],
   "source": [
    "print(demo_features_sub.shape)\n",
    "print(demo_labels_sub.shape)"
   ]
  },
  {
   "cell_type": "code",
   "execution_count": 42,
   "metadata": {},
   "outputs": [
    {
     "name": "stdout",
     "output_type": "stream",
     "text": [
      "<class 'pandas.core.frame.DataFrame'>\n",
      "RangeIndex: 925792 entries, 0 to 925791\n",
      "Columns: 242 entries, ALTERSKATEGORIE_GROB to ZABEOTYP\n",
      "dtypes: float64(216), int64(24), object(2)\n",
      "memory usage: 1.7+ GB\n"
     ]
    }
   ],
   "source": [
    "demo_features_sub.info()"
   ]
  },
  {
   "cell_type": "code",
   "execution_count": 43,
   "metadata": {},
   "outputs": [],
   "source": [
    "# Delete unused data to save space\n",
    "del demo_features_clean"
   ]
  },
  {
   "cell_type": "markdown",
   "metadata": {},
   "source": [
    "#### 2. Dealing with Statistical Data Types"
   ]
  },
  {
   "cell_type": "code",
   "execution_count": 44,
   "metadata": {
    "scrolled": true
   },
   "outputs": [
    {
     "data": {
      "text/plain": [
       "ordinal        219\n",
       "categorical     10\n",
       "mixed            7\n",
       "discrete         6\n",
       "Name: Data_Type, dtype: int64"
      ]
     },
     "execution_count": 44,
     "metadata": {},
     "output_type": "execute_result"
    }
   ],
   "source": [
    "# Extract statistical data type information\n",
    "data_type_sub = features_info.Data_Type[index_cols_sub.to_numpy()]\n",
    "\n",
    "data_type_sub.value_counts()"
   ]
  },
  {
   "cell_type": "markdown",
   "metadata": {},
   "source": [
    "##### Ordinal\n",
    "We will treat the ordinal data as numerical data with descrete values."
   ]
  },
  {
   "cell_type": "code",
   "execution_count": 45,
   "metadata": {},
   "outputs": [],
   "source": [
    "# Subset ordinal features\n",
    "features_ordinal = demo_features_sub[demo_features_sub.columns[data_type_sub == 'ordinal']]"
   ]
  },
  {
   "cell_type": "code",
   "execution_count": 46,
   "metadata": {},
   "outputs": [
    {
     "data": {
      "text/plain": [
       "['ALTERSKATEGORIE_GROB: [ 1.  3.  4.  2. nan]',\n",
       " 'BALLRAUM: [ 6.  2.  4.  3.  7.  1.  5. nan]',\n",
       " 'CAMEO_DEUG_2015: [ 8.  4.  2.  6.  1.  9.  5.  7.  3. nan]',\n",
       " 'CJT_GESAMTTYP: [ 5.  3.  2.  4.  1.  6. nan]',\n",
       " 'EWDICHTE: [ 3.  4.  2.  5.  6.  1. nan]',\n",
       " 'FINANZTYP: [1 6 5 2 4 3]',\n",
       " 'FINANZ_ANLEGER: [5 2 1 4 3]',\n",
       " 'FINANZ_HAUSBAUER: [5 2 3 4 1]',\n",
       " 'FINANZ_MINIMALIST: [1 4 3 2 5]',\n",
       " 'FINANZ_SPARER: [5 4 2 3 1]',\n",
       " 'FINANZ_UNAUFFAELLIGER: [4 3 1 2 5]',\n",
       " 'FINANZ_VORSORGER: [2 1 5 4 3]',\n",
       " 'GEBAEUDETYP_RASTER: [ 3.  4.  5.  2.  1. nan]',\n",
       " 'HH_EINKOMMEN_SCORE: [6. 4. 1. 5. 3. 2.]',\n",
       " 'INNENSTADT: [ 8.  4.  6.  1.  7.  3.  5.  2. nan]',\n",
       " 'KBA05_ALTER1: [ 3.  2.  0.  1.  4. nan]',\n",
       " 'KBA05_ALTER2: [ 4.  3.  5.  2. nan  1.]',\n",
       " 'KBA05_ALTER3: [ 1.  3.  4.  2. nan  5.]',\n",
       " 'KBA05_ALTER4: [ 4.  3.  0.  5. nan  2.  1.]',\n",
       " 'KBA05_ANHANG: [ 0.  1. nan  2.  3.]',\n",
       " 'KBA05_ANTG1: [ 0.  1.  4.  2.  3. nan]',\n",
       " 'KBA05_ANTG2: [ 0.  3.  1.  4.  2. nan]',\n",
       " 'KBA05_ANTG3: [ 0.  1. nan  3.  2.]',\n",
       " 'KBA05_ANTG4: [ 2.  0. nan  1.]',\n",
       " 'KBA05_AUTOQUOT: [ 1.  3.  4. nan  2.  5.]',\n",
       " 'KBA05_CCM1: [ 1.  5.  2.  4.  3. nan]',\n",
       " 'KBA05_CCM2: [ 5.  2.  3.  1.  4. nan]',\n",
       " 'KBA05_CCM3: [ 1.  3.  5.  4.  2. nan]',\n",
       " 'KBA05_CCM4: [ 4.  0.  1.  2. nan  3.]',\n",
       " 'KBA05_DIESEL: [ 2.  0.  3.  1. nan  4.]',\n",
       " 'KBA05_FRAU: [ 4.  3.  5. nan  1.  2.]',\n",
       " 'KBA05_GBZ: [ 1.  3.  4.  5.  2. nan]',\n",
       " 'KBA05_HERST1: [ 5.  2.  4.  3.  0. nan  1.]',\n",
       " 'KBA05_HERST2: [ 5.  2.  3. nan  4.  1.]',\n",
       " 'KBA05_HERST3: [ 2.  3.  4.  1. nan  0.  5.]',\n",
       " 'KBA05_HERST4: [ 2.  1.  3.  4.  0. nan  5.]',\n",
       " 'KBA05_HERST5: [ 0.  5.  3.  4.  2. nan  1.]',\n",
       " 'KBA05_HERSTTEMP: [ 4.  3.  1.  2.  5. nan]',\n",
       " 'KBA05_KRSAQUOT: [ 1.  3.  4.  2. nan  5.]',\n",
       " 'KBA05_KRSHERST1: [ 5.  3.  4.  2.  1. nan]',\n",
       " 'KBA05_KRSHERST2: [ 4.  2.  3.  5. nan  1.]',\n",
       " 'KBA05_KRSHERST3: [ 2.  3.  1.  4. nan  5.]',\n",
       " 'KBA05_KRSKLEIN: [ 1.  3.  2. nan]',\n",
       " 'KBA05_KRSOBER: [ 2.  1.  3. nan]',\n",
       " 'KBA05_KRSVAN: [ 1.  2.  3. nan]',\n",
       " 'KBA05_KRSZUL: [ 2.  3.  1. nan]',\n",
       " 'KBA05_KW1: [ 1.  3.  4.  2.  5. nan]',\n",
       " 'KBA05_KW2: [ 3.  2.  4.  5.  1. nan]',\n",
       " 'KBA05_KW3: [ 4.  2.  1.  3.  0. nan]',\n",
       " 'KBA05_MAXAH: [ 2.  3.  5. nan  4.  1.]',\n",
       " 'KBA05_MAXBJ: [ 1.  4.  2. nan  3.]',\n",
       " 'KBA05_MAXHERST: [ 2.  5.  3.  1. nan  4.]',\n",
       " 'KBA05_MAXSEG: [ 4.  1.  2. nan  3.]',\n",
       " 'KBA05_MAXVORB: [ 3.  1.  2. nan]',\n",
       " 'KBA05_MOD1: [ 3.  0.  2.  1.  4. nan]',\n",
       " 'KBA05_MOD2: [ 2.  4.  1.  3. nan  5.]',\n",
       " 'KBA05_MOD3: [ 2.  5.  4.  1.  3. nan]',\n",
       " 'KBA05_MOD4: [ 0.  1.  2.  4.  5.  3. nan]',\n",
       " 'KBA05_MOD8: [ 0.  1.  2. nan  3.]',\n",
       " 'KBA05_MODTEMP: [1. 4. 3. 5. 2. 6.]',\n",
       " 'KBA05_MOTOR: [ 3.  1.  4. nan  2.]',\n",
       " 'KBA05_MOTRAD: [ 0.  1.  3.  2. nan]',\n",
       " 'KBA05_SEG1: [ 0.  2.  1.  3. nan]',\n",
       " 'KBA05_SEG10: [ 4.  1.  3.  2.  0. nan]',\n",
       " 'KBA05_SEG2: [ 1.  5.  2.  4.  3. nan]',\n",
       " 'KBA05_SEG3: [ 2.  3.  5.  1.  4. nan]',\n",
       " 'KBA05_SEG4: [ 2.  3.  4.  1. nan  5.]',\n",
       " 'KBA05_SEG5: [ 2.  1.  0.  3. nan  4.]',\n",
       " 'KBA05_SEG6: [ 1.  0. nan]',\n",
       " 'KBA05_SEG7: [ 3.  0.  1.  2. nan]',\n",
       " 'KBA05_SEG8: [ 3.  0.  1.  2. nan]',\n",
       " 'KBA05_SEG9: [ 0.  1.  2. nan  3.]',\n",
       " 'KBA05_VORB0: [ 1.  4.  2.  5.  3. nan]',\n",
       " 'KBA05_VORB1: [ 1.  2.  5.  3.  4. nan]',\n",
       " 'KBA05_VORB2: [ 5.  3.  1.  4.  2.  0. nan]',\n",
       " 'KBA05_ZUL1: [ 5.  2.  3. nan  4.  1.]',\n",
       " 'KBA05_ZUL2: [ 1.  3.  4.  2. nan  5.]',\n",
       " 'KBA05_ZUL3: [ 0.  4.  3.  2. nan  1.  5.]',\n",
       " 'KBA05_ZUL4: [ 2.  4.  3.  5.  1.  0. nan]',\n",
       " 'KBA13_ALTERHALTER_30: [3. 2. 1. 4. 5.]',\n",
       " 'KBA13_ALTERHALTER_45: [2. 3. 4. 1. 5.]',\n",
       " 'KBA13_ALTERHALTER_60: [3. 5. 2. 4. 1.]',\n",
       " 'KBA13_ALTERHALTER_61: [4. 3. 2. 5. 1.]',\n",
       " 'KBA13_AUDI: [4. 3. 5. 2. 1.]',\n",
       " 'KBA13_AUTOQUOTE: [2. 3. 4. 5. 1. 0.]',\n",
       " 'KBA13_BJ_1999: [3. 2. 4. 1. 5.]',\n",
       " 'KBA13_BJ_2000: [3. 2. 1. 4. 5.]',\n",
       " 'KBA13_BJ_2004: [3. 4. 2. 1. 5.]',\n",
       " 'KBA13_BJ_2006: [3. 5. 2. 4. 1.]',\n",
       " 'KBA13_BJ_2008: [3. 4. 0. 2. 5. 1.]',\n",
       " 'KBA13_BJ_2009: [2. 1. 3. 5. 0. 4.]',\n",
       " 'KBA13_BMW: [3. 4. 2. 5. 1.]',\n",
       " 'KBA13_CCM_1000: [0. 1. 4. 5. 3. 2.]',\n",
       " 'KBA13_CCM_1200: [0. 2. 1. 4. 5. 3.]',\n",
       " 'KBA13_CCM_1400: [4. 2. 3. 1. 5.]',\n",
       " 'KBA13_CCM_0_1400: [2. 1. 3. 5. 0. 4.]',\n",
       " 'KBA13_CCM_1500: [1. 4. 3. 5. 2.]',\n",
       " 'KBA13_CCM_1400_2500: [3. 2. 1. 4. 5.]',\n",
       " 'KBA13_CCM_1600: [2. 3. 1. 4. 5.]',\n",
       " 'KBA13_CCM_1800: [2. 4. 3. 5. 1. 0.]',\n",
       " 'KBA13_CCM_2000: [5. 3. 4. 2. 1.]',\n",
       " 'KBA13_CCM_2500: [3. 4. 0. 5. 2. 1.]',\n",
       " 'KBA13_CCM_2501: [3. 4. 5. 0. 2. 1.]',\n",
       " 'KBA13_CCM_3000: [0. 3. 5. 2. 1. 4.]',\n",
       " 'KBA13_CCM_3001: [5. 4. 1. 3. 2.]',\n",
       " 'KBA13_FAB_ASIEN: [2. 4. 3. 1. 5.]',\n",
       " 'KBA13_FAB_SONSTIGE: [3. 2. 1. 4. 5.]',\n",
       " 'KBA13_FIAT: [4. 3. 5. 2. 1.]',\n",
       " 'KBA13_FORD: [2. 4. 3. 1. 5.]',\n",
       " 'KBA13_HALTER_20: [3. 2. 4. 5. 1.]',\n",
       " 'KBA13_HALTER_25: [3. 2. 1. 4. 5.]',\n",
       " 'KBA13_HALTER_30: [3. 2. 1. 4. 5.]',\n",
       " 'KBA13_HALTER_35: [3. 2. 1. 4. 5.]',\n",
       " 'KBA13_HALTER_40: [3. 2. 1. 4. 5.]',\n",
       " 'KBA13_HALTER_45: [2. 3. 5. 1. 4.]',\n",
       " 'KBA13_HALTER_50: [2. 3. 5. 4. 1.]',\n",
       " 'KBA13_HALTER_55: [3. 5. 4. 2. 1.]',\n",
       " 'KBA13_HALTER_60: [3. 4. 2. 5. 1.]',\n",
       " 'KBA13_HALTER_65: [3. 4. 5. 2. 1.]',\n",
       " 'KBA13_HALTER_66: [4. 3. 2. 5. 1.]',\n",
       " 'KBA13_HERST_ASIEN: [1. 3. 4. 2. 5.]',\n",
       " 'KBA13_HERST_AUDI_VW: [4. 2. 3. 5. 1.]',\n",
       " 'KBA13_HERST_BMW_BENZ: [4. 3. 5. 2. 1.]',\n",
       " 'KBA13_HERST_EUROPA: [4. 3. 2. 5. 1.]',\n",
       " 'KBA13_HERST_FORD_OPEL: [2. 3. 1. 4. 5.]',\n",
       " 'KBA13_HERST_SONST: [3. 2. 1. 4. 5.]',\n",
       " 'KBA13_KMH_110: [1. 2. 3.]',\n",
       " 'KBA13_KMH_140: [3. 1. 5. 2. 4.]',\n",
       " 'KBA13_KMH_180: [2. 1. 3. 4. 5.]',\n",
       " 'KBA13_KMH_0_140: [3. 1. 5. 0. 4. 2.]',\n",
       " 'KBA13_KMH_140_210: [3. 2. 1. 4. 5.]',\n",
       " 'KBA13_KMH_211: [3. 4. 5. 2. 1. 0.]',\n",
       " 'KBA13_KMH_250: [3. 4. 5. 2. 1. 0.]',\n",
       " 'KBA13_KMH_251: [1. 3. 2.]',\n",
       " 'KBA13_KRSAQUOT: [2. 3. 4. 1. 5. 0.]',\n",
       " 'KBA13_KRSHERST_AUDI_VW: [4. 3. 2. 1. 5. 0.]',\n",
       " 'KBA13_KRSHERST_BMW_BENZ: [3. 4. 5. 2. 1. 0.]',\n",
       " 'KBA13_KRSHERST_FORD_OPEL: [3. 2. 4. 1. 5. 0.]',\n",
       " 'KBA13_KRSSEG_KLEIN: [2. 3. 1. 0.]',\n",
       " 'KBA13_KRSSEG_OBER: [2. 3. 1. 0.]',\n",
       " 'KBA13_KRSSEG_VAN: [2. 1. 3. 0.]',\n",
       " 'KBA13_KRSZUL_NEU: [1. 2. 3. 0.]',\n",
       " 'KBA13_KW_30: [1. 2. 3.]',\n",
       " 'KBA13_KW_40: [2. 1. 4. 5. 0. 3.]',\n",
       " 'KBA13_KW_50: [4. 2. 3. 0. 1. 5.]',\n",
       " 'KBA13_KW_60: [0. 1. 2. 3. 4. 5.]',\n",
       " 'KBA13_KW_0_60: [3. 1. 2. 4. 5.]',\n",
       " 'KBA13_KW_70: [1. 4. 3. 2. 0. 5.]',\n",
       " 'KBA13_KW_61_120: [3. 5. 2. 4. 1.]',\n",
       " 'KBA13_KW_80: [2. 4. 1. 3. 0. 5.]',\n",
       " 'KBA13_KW_90: [3. 2. 0. 4. 1. 5.]',\n",
       " 'KBA13_KW_110: [4. 3. 1. 5. 0. 2.]',\n",
       " 'KBA13_KW_120: [4. 3. 1. 5. 0. 2.]',\n",
       " 'KBA13_KW_121: [3. 4. 5. 2. 0. 1.]',\n",
       " 'KBA13_MAZDA: [2. 3. 4. 5. 1.]',\n",
       " 'KBA13_MERCEDES: [4. 3. 5. 2. 1.]',\n",
       " 'KBA13_MOTOR: [3. 4. 2. 1.]',\n",
       " 'KBA13_NISSAN: [2. 3. 5. 4. 1.]',\n",
       " 'KBA13_OPEL: [3. 2. 4. 1. 5.]',\n",
       " 'KBA13_PEUGEOT: [4. 3. 2. 1. 5.]',\n",
       " 'KBA13_RENAULT: [3. 2. 4. 5. 1.]',\n",
       " 'KBA13_SEG_GELAENDEWAGEN: [2. 5. 3. 4. 1.]',\n",
       " 'KBA13_SEG_GROSSRAUMVANS: [3. 4. 1. 5. 2.]',\n",
       " 'KBA13_SEG_KLEINST: [2. 3. 5. 4. 1.]',\n",
       " 'KBA13_SEG_KLEINWAGEN: [2. 3. 4. 1. 5.]',\n",
       " 'KBA13_SEG_KOMPAKTKLASSE: [5. 1. 4. 3. 2.]',\n",
       " 'KBA13_SEG_MINIVANS: [4. 3. 2. 1. 5.]',\n",
       " 'KBA13_SEG_MINIWAGEN: [2. 3. 5. 4. 1.]',\n",
       " 'KBA13_SEG_MITTELKLASSE: [3. 2. 4. 5. 1.]',\n",
       " 'KBA13_SEG_OBEREMITTELKLASSE: [3. 4. 5. 2. 1.]',\n",
       " 'KBA13_SEG_OBERKLASSE: [3. 1. 4. 5. 0. 2.]',\n",
       " 'KBA13_SEG_SONSTIGE: [2. 5. 3. 4. 1.]',\n",
       " 'KBA13_SEG_SPORTWAGEN: [3. 4. 5. 1. 2. 0.]',\n",
       " 'KBA13_SEG_UTILITIES: [3. 5. 2. 4. 1.]',\n",
       " 'KBA13_SEG_VAN: [4. 3. 2. 1. 5.]',\n",
       " 'KBA13_SEG_WOHNMOBILE: [2. 5. 3. 4. 0. 1.]',\n",
       " 'KBA13_SITZE_4: [3. 4. 5. 2. 1.]',\n",
       " 'KBA13_SITZE_5: [3. 2. 1. 4. 5.]',\n",
       " 'KBA13_SITZE_6: [4. 3. 2. 5. 1.]',\n",
       " 'KBA13_TOYOTA: [2. 3. 4. 5. 1.]',\n",
       " 'KBA13_VORB_0: [3. 4. 5. 2. 1.]',\n",
       " 'KBA13_VORB_1: [3. 4. 2. 1. 5.]',\n",
       " 'KBA13_VORB_1_2: [3. 4. 2. 1. 5.]',\n",
       " 'KBA13_VORB_2: [3. 2. 4. 1. 5.]',\n",
       " 'KBA13_VORB_3: [3. 2. 4. 0. 1. 5.]',\n",
       " 'KBA13_VW: [4. 2. 3. 5. 1.]',\n",
       " 'KONSUMNAEHE: [ 1.  5.  4.  3.  2.  6.  7. nan]',\n",
       " 'LP_FAMILIE_GROB: [ 3.  1. nan  5.  2.  4.]',\n",
       " 'LP_STATUS_GROB: [ 1.  2.  4.  5.  3. nan]',\n",
       " 'MOBI_REGIO: [ 1.  3.  4.  5. nan  2.  6.]',\n",
       " 'ONLINE_AFFINITAET: [ 3.  2.  1.  5.  4.  0. nan]',\n",
       " 'ORTSGR_KLS9: [ 5.  3.  6.  4.  2.  7.  8.  9.  1. nan  0.]',\n",
       " 'PLZ8_ANTG1: [ 2.  3.  1.  4. nan  0.]',\n",
       " 'PLZ8_ANTG2: [ 3.  2.  4.  1. nan  0.]',\n",
       " 'PLZ8_ANTG3: [ 2.  1.  3.  0. nan]',\n",
       " 'PLZ8_ANTG4: [ 1.  0.  2. nan]',\n",
       " 'PLZ8_BAUMAX: [ 1.  2.  4.  5.  3. nan]',\n",
       " 'PLZ8_GBZ: [ 4.  3.  5.  2. nan  1.]',\n",
       " 'PLZ8_HHZ: [ 5.  4.  3.  2. nan  1.]',\n",
       " 'RELAT_AB: [ 4.  2.  3.  5.  1. nan]',\n",
       " 'RETOURTYP_BK_S: [ 1.  3.  2.  5.  4. nan]',\n",
       " 'SEMIO_DOM: [7 4 2 1 5 6 3]',\n",
       " 'SEMIO_ERL: [2 6 7 4 5 1 3]',\n",
       " 'SEMIO_FAM: [4 1 5 7 2 6 3]',\n",
       " 'SEMIO_KAEM: [4 7 5 2 3 6 1]',\n",
       " 'SEMIO_KRIT: [4 7 3 1 5 2 6]',\n",
       " 'SEMIO_KULT: [3 4 6 5 7 1 2]',\n",
       " 'SEMIO_LUST: [2 4 6 3 1 7 5]',\n",
       " 'SEMIO_MAT: [3 1 2 4 7 5 6]',\n",
       " 'SEMIO_PFLICHT: [7 3 4 5 1 6 2]',\n",
       " 'SEMIO_RAT: [6 4 3 2 7 5 1]',\n",
       " 'SEMIO_REL: [4 3 2 7 5 1 6]',\n",
       " 'SEMIO_SOZ: [5 4 6 2 7 3 1]',\n",
       " 'SEMIO_TRADV: [6 3 4 2 7 5 1]',\n",
       " 'SEMIO_VERT: [1 4 7 2 6 5 3]',\n",
       " 'WOHNDAUER_2008: [9. 8. 3. 4. 5. 6. 2. 7. 1.]',\n",
       " 'WOHNLAGE: [4. 2. 7. 3. 5. 1. 8. 0.]',\n",
       " 'W_KEIT_KIND_HH: [ 3. nan  2.  6.  5.  4.  1.]',\n",
       " 'ZABEOTYP: [5 3 4 1 6 2]']"
      ]
     },
     "execution_count": 46,
     "metadata": {},
     "output_type": "execute_result"
    }
   ],
   "source": [
    "# Check out unique values of ordinal features\n",
    "[\"{}: {}\".format(col_name, features_ordinal[col_name].unique()) for col_name in features_ordinal.columns]\n"
   ]
  },
  {
   "cell_type": "code",
   "execution_count": 47,
   "metadata": {},
   "outputs": [],
   "source": [
    "# Impute missing values with the mean\n",
    "features_ordinal_imputed = features_ordinal.fillna(features_ordinal.mean())"
   ]
  },
  {
   "cell_type": "code",
   "execution_count": 48,
   "metadata": {
    "scrolled": true
   },
   "outputs": [],
   "source": [
    "# Sanity Check\n",
    "assert features_ordinal_imputed.notnull().any().any()"
   ]
  },
  {
   "cell_type": "code",
   "execution_count": 49,
   "metadata": {},
   "outputs": [],
   "source": [
    "# Remove redundant variable\n",
    "del features_ordinal"
   ]
  },
  {
   "cell_type": "markdown",
   "metadata": {},
   "source": [
    "##### Discrete\n",
    "Discrete data is numerical data with descrete values."
   ]
  },
  {
   "cell_type": "code",
   "execution_count": 50,
   "metadata": {},
   "outputs": [],
   "source": [
    "# Subset discrete features\n",
    "features_discrete = demo_features_sub[demo_features_sub.columns[data_type_sub == 'discrete']]"
   ]
  },
  {
   "cell_type": "code",
   "execution_count": 51,
   "metadata": {
    "scrolled": true
   },
   "outputs": [
    {
     "data": {
      "text/html": [
       "<div>\n",
       "<style scoped>\n",
       "    .dataframe tbody tr th:only-of-type {\n",
       "        vertical-align: middle;\n",
       "    }\n",
       "\n",
       "    .dataframe tbody tr th {\n",
       "        vertical-align: top;\n",
       "    }\n",
       "\n",
       "    .dataframe thead th {\n",
       "        text-align: right;\n",
       "    }\n",
       "</style>\n",
       "<table border=\"1\" class=\"dataframe\">\n",
       "  <thead>\n",
       "    <tr style=\"text-align: right;\">\n",
       "      <th></th>\n",
       "      <th>ANZ_HAUSHALTE_AKTIV</th>\n",
       "      <th>ANZ_HH_TITEL</th>\n",
       "      <th>ANZ_PERSONEN</th>\n",
       "      <th>ANZ_TITEL</th>\n",
       "      <th>KBA13_ANZAHL_PKW</th>\n",
       "      <th>MIN_GEBAEUDEJAHR</th>\n",
       "    </tr>\n",
       "  </thead>\n",
       "  <tbody>\n",
       "    <tr>\n",
       "      <th>count</th>\n",
       "      <td>917274.000000</td>\n",
       "      <td>919986.000000</td>\n",
       "      <td>886144.000000</td>\n",
       "      <td>925792.000000</td>\n",
       "      <td>925792.000000</td>\n",
       "      <td>925792.000000</td>\n",
       "    </tr>\n",
       "    <tr>\n",
       "      <th>mean</th>\n",
       "      <td>7.844304</td>\n",
       "      <td>0.043691</td>\n",
       "      <td>1.896574</td>\n",
       "      <td>0.006578</td>\n",
       "      <td>626.908028</td>\n",
       "      <td>1993.123970</td>\n",
       "    </tr>\n",
       "    <tr>\n",
       "      <th>std</th>\n",
       "      <td>15.372099</td>\n",
       "      <td>0.350529</td>\n",
       "      <td>1.176710</td>\n",
       "      <td>0.086543</td>\n",
       "      <td>340.528955</td>\n",
       "      <td>2.947361</td>\n",
       "    </tr>\n",
       "    <tr>\n",
       "      <th>min</th>\n",
       "      <td>1.000000</td>\n",
       "      <td>0.000000</td>\n",
       "      <td>1.000000</td>\n",
       "      <td>0.000000</td>\n",
       "      <td>0.000000</td>\n",
       "      <td>1985.000000</td>\n",
       "    </tr>\n",
       "    <tr>\n",
       "      <th>25%</th>\n",
       "      <td>1.000000</td>\n",
       "      <td>0.000000</td>\n",
       "      <td>1.000000</td>\n",
       "      <td>0.000000</td>\n",
       "      <td>390.000000</td>\n",
       "      <td>1992.000000</td>\n",
       "    </tr>\n",
       "    <tr>\n",
       "      <th>50%</th>\n",
       "      <td>3.000000</td>\n",
       "      <td>0.000000</td>\n",
       "      <td>1.000000</td>\n",
       "      <td>0.000000</td>\n",
       "      <td>556.000000</td>\n",
       "      <td>1992.000000</td>\n",
       "    </tr>\n",
       "    <tr>\n",
       "      <th>75%</th>\n",
       "      <td>9.000000</td>\n",
       "      <td>0.000000</td>\n",
       "      <td>2.000000</td>\n",
       "      <td>0.000000</td>\n",
       "      <td>786.000000</td>\n",
       "      <td>1993.000000</td>\n",
       "    </tr>\n",
       "    <tr>\n",
       "      <th>max</th>\n",
       "      <td>595.000000</td>\n",
       "      <td>20.000000</td>\n",
       "      <td>45.000000</td>\n",
       "      <td>5.000000</td>\n",
       "      <td>2300.000000</td>\n",
       "      <td>2013.000000</td>\n",
       "    </tr>\n",
       "  </tbody>\n",
       "</table>\n",
       "</div>"
      ],
      "text/plain": [
       "       ANZ_HAUSHALTE_AKTIV   ANZ_HH_TITEL   ANZ_PERSONEN      ANZ_TITEL  \\\n",
       "count        917274.000000  919986.000000  886144.000000  925792.000000   \n",
       "mean              7.844304       0.043691       1.896574       0.006578   \n",
       "std              15.372099       0.350529       1.176710       0.086543   \n",
       "min               1.000000       0.000000       1.000000       0.000000   \n",
       "25%               1.000000       0.000000       1.000000       0.000000   \n",
       "50%               3.000000       0.000000       1.000000       0.000000   \n",
       "75%               9.000000       0.000000       2.000000       0.000000   \n",
       "max             595.000000      20.000000      45.000000       5.000000   \n",
       "\n",
       "       KBA13_ANZAHL_PKW  MIN_GEBAEUDEJAHR  \n",
       "count     925792.000000     925792.000000  \n",
       "mean         626.908028       1993.123970  \n",
       "std          340.528955          2.947361  \n",
       "min            0.000000       1985.000000  \n",
       "25%          390.000000       1992.000000  \n",
       "50%          556.000000       1992.000000  \n",
       "75%          786.000000       1993.000000  \n",
       "max         2300.000000       2013.000000  "
      ]
     },
     "execution_count": 51,
     "metadata": {},
     "output_type": "execute_result"
    }
   ],
   "source": [
    "# Check out statistical distributions of discrete features\n",
    "features_discrete.describe()"
   ]
  },
  {
   "cell_type": "code",
   "execution_count": 52,
   "metadata": {},
   "outputs": [
    {
     "name": "stderr",
     "output_type": "stream",
     "text": [
      "/opt/anaconda3/lib/python3.7/site-packages/ipykernel_launcher.py:4: UserWarning: To output multiple subplots, the figure containing the passed axes is being cleared\n",
      "  after removing the cwd from sys.path.\n"
     ]
    },
    {
     "data": {
      "image/png": "[encoded data removed]",
      "text/plain": [
       "<Figure size 1080x1080 with 6 Axes>"
      ]
     },
     "metadata": {
      "needs_background": "light"
     },
     "output_type": "display_data"
    }
   ],
   "source": [
    "# Plot histograms of discrete features\n",
    "fig = plt.figure(figsize = (15, 15))\n",
    "ax = fig.gca()\n",
    "features_discrete.hist(ax=ax, bins=10)\n",
    "plt.show()"
   ]
  },
  {
   "cell_type": "markdown",
   "metadata": {},
   "source": [
    "**Conclusion:** *ANZ_HH_TITEL*, *ANZ_PERSONEN* and *ANZ_TITEL* have extreme low variance, thus they are removed; the others seem to suffer from outlier problem, we will deal with these issues."
   ]
  },
  {
   "cell_type": "code",
   "execution_count": 53,
   "metadata": {},
   "outputs": [
    {
     "data": {
      "text/plain": [
       "Index(['ANZ_HAUSHALTE_AKTIV', 'ANZ_HH_TITEL', 'ANZ_PERSONEN', 'ANZ_TITEL',\n",
       "       'KBA13_ANZAHL_PKW', 'MIN_GEBAEUDEJAHR'],\n",
       "      dtype='object')"
      ]
     },
     "execution_count": 53,
     "metadata": {},
     "output_type": "execute_result"
    }
   ],
   "source": [
    "features_discrete.columns"
   ]
  },
  {
   "cell_type": "code",
   "execution_count": 54,
   "metadata": {},
   "outputs": [],
   "source": [
    "# drop low-variance features\n",
    "features_discrete = features_discrete.drop(['ANZ_HH_TITEL', 'ANZ_PERSONEN', 'ANZ_TITEL'], axis=1)"
   ]
  },
  {
   "cell_type": "code",
   "execution_count": 55,
   "metadata": {},
   "outputs": [
    {
     "data": {
      "text/plain": [
       "(925792, 3)"
      ]
     },
     "execution_count": 55,
     "metadata": {},
     "output_type": "execute_result"
    }
   ],
   "source": [
    "# Sanity Check\n",
    "features_discrete.shape"
   ]
  },
  {
   "cell_type": "code",
   "execution_count": 56,
   "metadata": {},
   "outputs": [],
   "source": [
    "# Detect outliers with Z-score metric, choose 3 standard deviations as threshold\n",
    "outlier_upper, outlier_lower = features_discrete.mean() + 3*features_discrete.std(), features_discrete.mean() - 3*features_discrete.std()\n"
   ]
  },
  {
   "cell_type": "code",
   "execution_count": 57,
   "metadata": {
    "scrolled": false
   },
   "outputs": [],
   "source": [
    "# Replace outliers with np.nan\n",
    "features_discrete[(features_discrete > outlier_upper) | (features_discrete < outlier_lower)] = np.nan"
   ]
  },
  {
   "cell_type": "code",
   "execution_count": 58,
   "metadata": {},
   "outputs": [
    {
     "data": {
      "text/html": [
       "<div>\n",
       "<style scoped>\n",
       "    .dataframe tbody tr th:only-of-type {\n",
       "        vertical-align: middle;\n",
       "    }\n",
       "\n",
       "    .dataframe tbody tr th {\n",
       "        vertical-align: top;\n",
       "    }\n",
       "\n",
       "    .dataframe thead th {\n",
       "        text-align: right;\n",
       "    }\n",
       "</style>\n",
       "<table border=\"1\" class=\"dataframe\">\n",
       "  <thead>\n",
       "    <tr style=\"text-align: right;\">\n",
       "      <th></th>\n",
       "      <th>ANZ_HAUSHALTE_AKTIV</th>\n",
       "      <th>KBA13_ANZAHL_PKW</th>\n",
       "      <th>MIN_GEBAEUDEJAHR</th>\n",
       "    </tr>\n",
       "  </thead>\n",
       "  <tbody>\n",
       "    <tr>\n",
       "      <th>count</th>\n",
       "      <td>903082.000000</td>\n",
       "      <td>912922.000000</td>\n",
       "      <td>894380.000000</td>\n",
       "    </tr>\n",
       "    <tr>\n",
       "      <th>mean</th>\n",
       "      <td>6.443814</td>\n",
       "      <td>609.566904</td>\n",
       "      <td>1992.678557</td>\n",
       "    </tr>\n",
       "    <tr>\n",
       "      <th>std</th>\n",
       "      <td>7.993341</td>\n",
       "      <td>309.104455</td>\n",
       "      <td>1.683234</td>\n",
       "    </tr>\n",
       "    <tr>\n",
       "      <th>min</th>\n",
       "      <td>1.000000</td>\n",
       "      <td>0.000000</td>\n",
       "      <td>1985.000000</td>\n",
       "    </tr>\n",
       "    <tr>\n",
       "      <th>25%</th>\n",
       "      <td>1.000000</td>\n",
       "      <td>388.000000</td>\n",
       "      <td>1992.000000</td>\n",
       "    </tr>\n",
       "    <tr>\n",
       "      <th>50%</th>\n",
       "      <td>3.000000</td>\n",
       "      <td>551.000000</td>\n",
       "      <td>1992.000000</td>\n",
       "    </tr>\n",
       "    <tr>\n",
       "      <th>75%</th>\n",
       "      <td>9.000000</td>\n",
       "      <td>773.000000</td>\n",
       "      <td>1992.000000</td>\n",
       "    </tr>\n",
       "    <tr>\n",
       "      <th>max</th>\n",
       "      <td>53.000000</td>\n",
       "      <td>1600.000000</td>\n",
       "      <td>2001.000000</td>\n",
       "    </tr>\n",
       "  </tbody>\n",
       "</table>\n",
       "</div>"
      ],
      "text/plain": [
       "       ANZ_HAUSHALTE_AKTIV  KBA13_ANZAHL_PKW  MIN_GEBAEUDEJAHR\n",
       "count        903082.000000     912922.000000     894380.000000\n",
       "mean              6.443814        609.566904       1992.678557\n",
       "std               7.993341        309.104455          1.683234\n",
       "min               1.000000          0.000000       1985.000000\n",
       "25%               1.000000        388.000000       1992.000000\n",
       "50%               3.000000        551.000000       1992.000000\n",
       "75%               9.000000        773.000000       1992.000000\n",
       "max              53.000000       1600.000000       2001.000000"
      ]
     },
     "execution_count": 58,
     "metadata": {},
     "output_type": "execute_result"
    }
   ],
   "source": [
    "# Sanity Check\n",
    "features_discrete.describe()"
   ]
  },
  {
   "cell_type": "code",
   "execution_count": 59,
   "metadata": {
    "scrolled": false
   },
   "outputs": [
    {
     "name": "stderr",
     "output_type": "stream",
     "text": [
      "/opt/anaconda3/lib/python3.7/site-packages/ipykernel_launcher.py:4: UserWarning: To output multiple subplots, the figure containing the passed axes is being cleared\n",
      "  after removing the cwd from sys.path.\n"
     ]
    },
    {
     "data": {
      "image/png": "[encoded data removed]",
      "text/plain": [
       "<Figure size 1080x720 with 4 Axes>"
      ]
     },
     "metadata": {
      "needs_background": "light"
     },
     "output_type": "display_data"
    }
   ],
   "source": [
    "# Display histograms without ouliers\n",
    "fig = plt.figure(figsize = (15, 10))\n",
    "ax = fig.gca()\n",
    "features_discrete.hist(ax=ax, bins=10)\n",
    "plt.show()"
   ]
  },
  {
   "cell_type": "markdown",
   "metadata": {},
   "source": [
    "**Conclusion:** log-transform *ANZ_HAUSHALTE_AKTIV* as it's terriblely left-skewed."
   ]
  },
  {
   "cell_type": "code",
   "execution_count": 60,
   "metadata": {
    "scrolled": false
   },
   "outputs": [
    {
     "name": "stderr",
     "output_type": "stream",
     "text": [
      "/opt/anaconda3/lib/python3.7/site-packages/numpy/lib/histograms.py:839: RuntimeWarning: invalid value encountered in greater_equal\n",
      "  keep = (tmp_a >= first_edge)\n",
      "/opt/anaconda3/lib/python3.7/site-packages/numpy/lib/histograms.py:840: RuntimeWarning: invalid value encountered in less_equal\n",
      "  keep &= (tmp_a <= last_edge)\n"
     ]
    },
    {
     "data": {
      "text/plain": [
       "(array([263374., 141593.,  69445.,  47137., 116854.,  92980.,  93004.,\n",
       "         37322.,  25170.,  16203.]),\n",
       " array([0.        , 0.39702919, 0.79405838, 1.19108757, 1.58811677,\n",
       "        1.98514596, 2.38217515, 2.77920434, 3.17623353, 3.57326272,\n",
       "        3.97029191]),\n",
       " <a list of 10 Patch objects>)"
      ]
     },
     "execution_count": 60,
     "metadata": {},
     "output_type": "execute_result"
    },
    {
     "data": {
      "image/png": "[encoded data removed]",
      "text/plain": [
       "<Figure size 432x288 with 1 Axes>"
      ]
     },
     "metadata": {
      "needs_background": "light"
     },
     "output_type": "display_data"
    }
   ],
   "source": [
    "# Log-transformation of ANZ_HAUSHALTE_AKTIV\n",
    "features_discrete.ANZ_HAUSHALTE_AKTIV = np.log(features_discrete.ANZ_HAUSHALTE_AKTIV)\n",
    "\n",
    "# Display the result\n",
    "plt.hist(features_discrete.ANZ_HAUSHALTE_AKTIV, bins=10)"
   ]
  },
  {
   "cell_type": "markdown",
   "metadata": {},
   "source": [
    "**Conclusion:** log-transformation seems to work pretty well."
   ]
  },
  {
   "cell_type": "code",
   "execution_count": 61,
   "metadata": {},
   "outputs": [],
   "source": [
    "# Impute missing values with the Mean\n",
    "features_discrete_imputed = features_discrete.fillna(features_discrete.mean())\n",
    "\n",
    "# Sanity Check\n",
    "assert features_discrete_imputed.notnull().all().all()"
   ]
  },
  {
   "cell_type": "code",
   "execution_count": 62,
   "metadata": {},
   "outputs": [],
   "source": [
    "# Remove redundant variable\n",
    "del features_discrete"
   ]
  },
  {
   "cell_type": "markdown",
   "metadata": {},
   "source": [
    "##### Mixed\n",
    "Mixed data is categorical data with partial orders, we will treat it as categorical data."
   ]
  },
  {
   "cell_type": "code",
   "execution_count": 63,
   "metadata": {},
   "outputs": [],
   "source": [
    "# Select mixed features\n",
    "features_mixed = demo_features_sub[demo_features_sub.columns[data_type_sub == 'mixed']].astype('category')"
   ]
  },
  {
   "cell_type": "code",
   "execution_count": 64,
   "metadata": {
    "scrolled": false
   },
   "outputs": [
    {
     "data": {
      "text/html": [
       "<div>\n",
       "<style scoped>\n",
       "    .dataframe tbody tr th:only-of-type {\n",
       "        vertical-align: middle;\n",
       "    }\n",
       "\n",
       "    .dataframe tbody tr th {\n",
       "        vertical-align: top;\n",
       "    }\n",
       "\n",
       "    .dataframe thead th {\n",
       "        text-align: right;\n",
       "    }\n",
       "</style>\n",
       "<table border=\"1\" class=\"dataframe\">\n",
       "  <thead>\n",
       "    <tr style=\"text-align: right;\">\n",
       "      <th></th>\n",
       "      <th>CAMEO_DEU_2015</th>\n",
       "      <th>CAMEO_INTL_2015</th>\n",
       "      <th>LP_FAMILIE_FEIN</th>\n",
       "      <th>LP_LEBENSPHASE_FEIN</th>\n",
       "      <th>LP_LEBENSPHASE_GROB</th>\n",
       "      <th>LP_STATUS_FEIN</th>\n",
       "      <th>PRAEGENDE_JUGENDJAHRE</th>\n",
       "    </tr>\n",
       "  </thead>\n",
       "  <tbody>\n",
       "    <tr>\n",
       "      <th>0</th>\n",
       "      <td>8A</td>\n",
       "      <td>51.0</td>\n",
       "      <td>5.0</td>\n",
       "      <td>21.0</td>\n",
       "      <td>6.0</td>\n",
       "      <td>2.0</td>\n",
       "      <td>14.0</td>\n",
       "    </tr>\n",
       "    <tr>\n",
       "      <th>1</th>\n",
       "      <td>4C</td>\n",
       "      <td>24.0</td>\n",
       "      <td>1.0</td>\n",
       "      <td>3.0</td>\n",
       "      <td>1.0</td>\n",
       "      <td>3.0</td>\n",
       "      <td>15.0</td>\n",
       "    </tr>\n",
       "    <tr>\n",
       "      <th>2</th>\n",
       "      <td>2A</td>\n",
       "      <td>12.0</td>\n",
       "      <td>NaN</td>\n",
       "      <td>NaN</td>\n",
       "      <td>NaN</td>\n",
       "      <td>9.0</td>\n",
       "      <td>8.0</td>\n",
       "    </tr>\n",
       "    <tr>\n",
       "      <th>3</th>\n",
       "      <td>6B</td>\n",
       "      <td>43.0</td>\n",
       "      <td>10.0</td>\n",
       "      <td>32.0</td>\n",
       "      <td>10.0</td>\n",
       "      <td>3.0</td>\n",
       "      <td>8.0</td>\n",
       "    </tr>\n",
       "    <tr>\n",
       "      <th>4</th>\n",
       "      <td>8C</td>\n",
       "      <td>54.0</td>\n",
       "      <td>1.0</td>\n",
       "      <td>8.0</td>\n",
       "      <td>2.0</td>\n",
       "      <td>4.0</td>\n",
       "      <td>3.0</td>\n",
       "    </tr>\n",
       "  </tbody>\n",
       "</table>\n",
       "</div>"
      ],
      "text/plain": [
       "  CAMEO_DEU_2015 CAMEO_INTL_2015 LP_FAMILIE_FEIN LP_LEBENSPHASE_FEIN  \\\n",
       "0             8A            51.0             5.0                21.0   \n",
       "1             4C            24.0             1.0                 3.0   \n",
       "2             2A            12.0             NaN                 NaN   \n",
       "3             6B            43.0            10.0                32.0   \n",
       "4             8C            54.0             1.0                 8.0   \n",
       "\n",
       "  LP_LEBENSPHASE_GROB LP_STATUS_FEIN PRAEGENDE_JUGENDJAHRE  \n",
       "0                 6.0            2.0                  14.0  \n",
       "1                 1.0            3.0                  15.0  \n",
       "2                 NaN            9.0                   8.0  \n",
       "3                10.0            3.0                   8.0  \n",
       "4                 2.0            4.0                   3.0  "
      ]
     },
     "execution_count": 64,
     "metadata": {},
     "output_type": "execute_result"
    }
   ],
   "source": [
    "features_mixed.head()"
   ]
  },
  {
   "cell_type": "markdown",
   "metadata": {},
   "source": [
    "**Conclusion:** we exclude *CAMEO_INTL_2015, LP_LEBENSPHASE_FEIN, LP_LEBENSPHASE_GROB and LP_STATUS_FEIN* since the information those features could provide is already contained in other variables."
   ]
  },
  {
   "cell_type": "code",
   "execution_count": 65,
   "metadata": {},
   "outputs": [],
   "source": [
    "# Eliminate CAMEO_INTL_2015, LP_FAMILIE_GROB, LP_LEBENSPHASE_GROB and LP_STATUS_FEIN\n",
    "features_mixed = features_mixed.drop(['CAMEO_INTL_2015', 'LP_LEBENSPHASE_FEIN', 'LP_LEBENSPHASE_GROB', 'LP_STATUS_FEIN'], axis=1)\n"
   ]
  },
  {
   "cell_type": "code",
   "execution_count": 66,
   "metadata": {},
   "outputs": [
    {
     "data": {
      "text/html": [
       "<div>\n",
       "<style scoped>\n",
       "    .dataframe tbody tr th:only-of-type {\n",
       "        vertical-align: middle;\n",
       "    }\n",
       "\n",
       "    .dataframe tbody tr th {\n",
       "        vertical-align: top;\n",
       "    }\n",
       "\n",
       "    .dataframe thead th {\n",
       "        text-align: right;\n",
       "    }\n",
       "</style>\n",
       "<table border=\"1\" class=\"dataframe\">\n",
       "  <thead>\n",
       "    <tr style=\"text-align: right;\">\n",
       "      <th></th>\n",
       "      <th>CAMEO_DEU_2015</th>\n",
       "      <th>LP_FAMILIE_FEIN</th>\n",
       "      <th>PRAEGENDE_JUGENDJAHRE</th>\n",
       "    </tr>\n",
       "  </thead>\n",
       "  <tbody>\n",
       "    <tr>\n",
       "      <th>count</th>\n",
       "      <td>921451</td>\n",
       "      <td>885524.0</td>\n",
       "      <td>897055.0</td>\n",
       "    </tr>\n",
       "    <tr>\n",
       "      <th>unique</th>\n",
       "      <td>44</td>\n",
       "      <td>11.0</td>\n",
       "      <td>15.0</td>\n",
       "    </tr>\n",
       "    <tr>\n",
       "      <th>top</th>\n",
       "      <td>6B</td>\n",
       "      <td>1.0</td>\n",
       "      <td>14.0</td>\n",
       "    </tr>\n",
       "    <tr>\n",
       "      <th>freq</th>\n",
       "      <td>65656</td>\n",
       "      <td>433008.0</td>\n",
       "      <td>183484.0</td>\n",
       "    </tr>\n",
       "  </tbody>\n",
       "</table>\n",
       "</div>"
      ],
      "text/plain": [
       "       CAMEO_DEU_2015  LP_FAMILIE_FEIN  PRAEGENDE_JUGENDJAHRE\n",
       "count          921451         885524.0               897055.0\n",
       "unique             44             11.0                   15.0\n",
       "top                6B              1.0                   14.0\n",
       "freq            65656         433008.0               183484.0"
      ]
     },
     "execution_count": 66,
     "metadata": {},
     "output_type": "execute_result"
    }
   ],
   "source": [
    "# Sanity Check\n",
    "features_mixed.describe()"
   ]
  },
  {
   "cell_type": "code",
   "execution_count": 67,
   "metadata": {},
   "outputs": [
    {
     "name": "stdout",
     "output_type": "stream",
     "text": [
      "(925792, 3)\n"
     ]
    }
   ],
   "source": [
    "print(features_mixed.shape)"
   ]
  },
  {
   "cell_type": "markdown",
   "metadata": {},
   "source": [
    "##### Categorical"
   ]
  },
  {
   "cell_type": "code",
   "execution_count": 68,
   "metadata": {},
   "outputs": [],
   "source": [
    "# Select categorical features\n",
    "features_categorical = demo_features_sub[demo_features_sub.columns[data_type_sub == 'categorical']].astype('category')"
   ]
  },
  {
   "cell_type": "code",
   "execution_count": 69,
   "metadata": {
    "scrolled": false
   },
   "outputs": [
    {
     "data": {
      "text/html": [
       "<div>\n",
       "<style scoped>\n",
       "    .dataframe tbody tr th:only-of-type {\n",
       "        vertical-align: middle;\n",
       "    }\n",
       "\n",
       "    .dataframe tbody tr th {\n",
       "        vertical-align: top;\n",
       "    }\n",
       "\n",
       "    .dataframe thead th {\n",
       "        text-align: right;\n",
       "    }\n",
       "</style>\n",
       "<table border=\"1\" class=\"dataframe\">\n",
       "  <thead>\n",
       "    <tr style=\"text-align: right;\">\n",
       "      <th></th>\n",
       "      <th>ANREDE_KZ</th>\n",
       "      <th>GEBAEUDETYP</th>\n",
       "      <th>GFK_URLAUBERTYP</th>\n",
       "      <th>GREEN_AVANTGARDE</th>\n",
       "      <th>HEALTH_TYP</th>\n",
       "      <th>NATIONALITAET_KZ</th>\n",
       "      <th>OST_WEST_KZ</th>\n",
       "      <th>SHOPPER_TYP</th>\n",
       "      <th>SOHO_KZ</th>\n",
       "      <th>VERS_TYP</th>\n",
       "    </tr>\n",
       "  </thead>\n",
       "  <tbody>\n",
       "    <tr>\n",
       "      <th>count</th>\n",
       "      <td>925792</td>\n",
       "      <td>925792.0</td>\n",
       "      <td>918002.0</td>\n",
       "      <td>925792</td>\n",
       "      <td>887396.0</td>\n",
       "      <td>890381.0</td>\n",
       "      <td>925792</td>\n",
       "      <td>887396.0</td>\n",
       "      <td>925792.0</td>\n",
       "      <td>887396.0</td>\n",
       "    </tr>\n",
       "    <tr>\n",
       "      <th>unique</th>\n",
       "      <td>2</td>\n",
       "      <td>7.0</td>\n",
       "      <td>12.0</td>\n",
       "      <td>2</td>\n",
       "      <td>3.0</td>\n",
       "      <td>3.0</td>\n",
       "      <td>2</td>\n",
       "      <td>4.0</td>\n",
       "      <td>2.0</td>\n",
       "      <td>2.0</td>\n",
       "    </tr>\n",
       "    <tr>\n",
       "      <th>top</th>\n",
       "      <td>1</td>\n",
       "      <td>1.0</td>\n",
       "      <td>12.0</td>\n",
       "      <td>0</td>\n",
       "      <td>2.0</td>\n",
       "      <td>1.0</td>\n",
       "      <td>W</td>\n",
       "      <td>1.0</td>\n",
       "      <td>0.0</td>\n",
       "      <td>2.0</td>\n",
       "    </tr>\n",
       "    <tr>\n",
       "      <th>freq</th>\n",
       "      <td>469718</td>\n",
       "      <td>547090.0</td>\n",
       "      <td>133708.0</td>\n",
       "      <td>683049</td>\n",
       "      <td>347097.0</td>\n",
       "      <td>792019.0</td>\n",
       "      <td>748444</td>\n",
       "      <td>279142.0</td>\n",
       "      <td>917805.0</td>\n",
       "      <td>457339.0</td>\n",
       "    </tr>\n",
       "  </tbody>\n",
       "</table>\n",
       "</div>"
      ],
      "text/plain": [
       "        ANREDE_KZ  GEBAEUDETYP  GFK_URLAUBERTYP  GREEN_AVANTGARDE  HEALTH_TYP  \\\n",
       "count      925792     925792.0         918002.0            925792    887396.0   \n",
       "unique          2          7.0             12.0                 2         3.0   \n",
       "top             1          1.0             12.0                 0         2.0   \n",
       "freq       469718     547090.0         133708.0            683049    347097.0   \n",
       "\n",
       "        NATIONALITAET_KZ OST_WEST_KZ  SHOPPER_TYP   SOHO_KZ  VERS_TYP  \n",
       "count           890381.0      925792     887396.0  925792.0  887396.0  \n",
       "unique               3.0           2          4.0       2.0       2.0  \n",
       "top                  1.0           W          1.0       0.0       2.0  \n",
       "freq            792019.0      748444     279142.0  917805.0  457339.0  "
      ]
     },
     "execution_count": 69,
     "metadata": {},
     "output_type": "execute_result"
    }
   ],
   "source": [
    "# Check out statistical distributions of discrete features\n",
    "features_categorical.describe()"
   ]
  },
  {
   "cell_type": "code",
   "execution_count": 70,
   "metadata": {},
   "outputs": [],
   "source": [
    "# Delete redundant varible\n",
    "del demo_features_sub"
   ]
  },
  {
   "cell_type": "markdown",
   "metadata": {},
   "source": [
    "##### Merging Data Types\n",
    "\n",
    "For convenience, we concatenate ordinal and discrete typed features as numerical data, mixed and categorical typed features as categorical data."
   ]
  },
  {
   "cell_type": "code",
   "execution_count": 71,
   "metadata": {},
   "outputs": [],
   "source": [
    "features_numerical_imputed = pd.concat([features_ordinal_imputed, features_discrete_imputed], axis=1)\n",
    "features_categorical = pd.concat([features_mixed, features_categorical], axis=1)"
   ]
  },
  {
   "cell_type": "code",
   "execution_count": 72,
   "metadata": {},
   "outputs": [],
   "source": [
    "# Delete redundant varibles\n",
    "del features_ordinal_imputed, features_discrete_imputed, features_mixed"
   ]
  },
  {
   "cell_type": "markdown",
   "metadata": {},
   "source": [
    "#### 3. Scaling Numerical Features\n"
   ]
  },
  {
   "cell_type": "code",
   "execution_count": 73,
   "metadata": {},
   "outputs": [],
   "source": [
    "from sklearn.preprocessing import StandardScaler"
   ]
  },
  {
   "cell_type": "code",
   "execution_count": 74,
   "metadata": {},
   "outputs": [],
   "source": [
    "# Standardize numerical features\n",
    "scaler = StandardScaler()\n",
    "features_numerical_scaled = pd.DataFrame(scaler.fit_transform(features_numerical_imputed), columns=features_numerical_imputed.columns)\n"
   ]
  },
  {
   "cell_type": "code",
   "execution_count": 75,
   "metadata": {
    "scrolled": true
   },
   "outputs": [
    {
     "data": {
      "text/html": [
       "<div>\n",
       "<style scoped>\n",
       "    .dataframe tbody tr th:only-of-type {\n",
       "        vertical-align: middle;\n",
       "    }\n",
       "\n",
       "    .dataframe tbody tr th {\n",
       "        vertical-align: top;\n",
       "    }\n",
       "\n",
       "    .dataframe thead th {\n",
       "        text-align: right;\n",
       "    }\n",
       "</style>\n",
       "<table border=\"1\" class=\"dataframe\">\n",
       "  <thead>\n",
       "    <tr style=\"text-align: right;\">\n",
       "      <th></th>\n",
       "      <th>ALTERSKATEGORIE_GROB</th>\n",
       "      <th>BALLRAUM</th>\n",
       "      <th>CAMEO_DEUG_2015</th>\n",
       "      <th>CJT_GESAMTTYP</th>\n",
       "      <th>EWDICHTE</th>\n",
       "      <th>FINANZTYP</th>\n",
       "      <th>FINANZ_ANLEGER</th>\n",
       "      <th>FINANZ_HAUSBAUER</th>\n",
       "      <th>FINANZ_MINIMALIST</th>\n",
       "      <th>FINANZ_SPARER</th>\n",
       "      <th>...</th>\n",
       "      <th>SEMIO_SOZ</th>\n",
       "      <th>SEMIO_TRADV</th>\n",
       "      <th>SEMIO_VERT</th>\n",
       "      <th>WOHNDAUER_2008</th>\n",
       "      <th>WOHNLAGE</th>\n",
       "      <th>W_KEIT_KIND_HH</th>\n",
       "      <th>ZABEOTYP</th>\n",
       "      <th>ANZ_HAUSHALTE_AKTIV</th>\n",
       "      <th>KBA13_ANZAHL_PKW</th>\n",
       "      <th>MIN_GEBAEUDEJAHR</th>\n",
       "    </tr>\n",
       "  </thead>\n",
       "  <tbody>\n",
       "    <tr>\n",
       "      <th>count</th>\n",
       "      <td>9.257920e+05</td>\n",
       "      <td>9.257920e+05</td>\n",
       "      <td>9.257920e+05</td>\n",
       "      <td>9.257920e+05</td>\n",
       "      <td>9.257920e+05</td>\n",
       "      <td>9.257920e+05</td>\n",
       "      <td>9.257920e+05</td>\n",
       "      <td>9.257920e+05</td>\n",
       "      <td>9.257920e+05</td>\n",
       "      <td>9.257920e+05</td>\n",
       "      <td>...</td>\n",
       "      <td>9.257920e+05</td>\n",
       "      <td>9.257920e+05</td>\n",
       "      <td>9.257920e+05</td>\n",
       "      <td>9.257920e+05</td>\n",
       "      <td>9.257920e+05</td>\n",
       "      <td>9.257920e+05</td>\n",
       "      <td>9.257920e+05</td>\n",
       "      <td>9.257920e+05</td>\n",
       "      <td>9.257920e+05</td>\n",
       "      <td>9.257920e+05</td>\n",
       "    </tr>\n",
       "    <tr>\n",
       "      <th>mean</th>\n",
       "      <td>2.416198e-13</td>\n",
       "      <td>-6.668545e-14</td>\n",
       "      <td>1.993866e-13</td>\n",
       "      <td>-1.613988e-13</td>\n",
       "      <td>1.400916e-14</td>\n",
       "      <td>1.656602e-13</td>\n",
       "      <td>5.124178e-13</td>\n",
       "      <td>-1.501040e-13</td>\n",
       "      <td>-9.476678e-14</td>\n",
       "      <td>-9.354424e-15</td>\n",
       "      <td>...</td>\n",
       "      <td>-4.656376e-14</td>\n",
       "      <td>7.028464e-13</td>\n",
       "      <td>-7.061738e-13</td>\n",
       "      <td>5.723226e-13</td>\n",
       "      <td>-3.377518e-16</td>\n",
       "      <td>-3.679613e-14</td>\n",
       "      <td>-3.008738e-13</td>\n",
       "      <td>-3.333662e-13</td>\n",
       "      <td>-3.442293e-15</td>\n",
       "      <td>1.174630e-13</td>\n",
       "    </tr>\n",
       "    <tr>\n",
       "      <th>std</th>\n",
       "      <td>1.000001e+00</td>\n",
       "      <td>1.000001e+00</td>\n",
       "      <td>1.000001e+00</td>\n",
       "      <td>1.000001e+00</td>\n",
       "      <td>1.000001e+00</td>\n",
       "      <td>1.000001e+00</td>\n",
       "      <td>1.000001e+00</td>\n",
       "      <td>1.000001e+00</td>\n",
       "      <td>1.000001e+00</td>\n",
       "      <td>1.000001e+00</td>\n",
       "      <td>...</td>\n",
       "      <td>1.000001e+00</td>\n",
       "      <td>1.000001e+00</td>\n",
       "      <td>1.000001e+00</td>\n",
       "      <td>1.000001e+00</td>\n",
       "      <td>1.000001e+00</td>\n",
       "      <td>1.000001e+00</td>\n",
       "      <td>1.000001e+00</td>\n",
       "      <td>1.000001e+00</td>\n",
       "      <td>1.000001e+00</td>\n",
       "      <td>1.000001e+00</td>\n",
       "    </tr>\n",
       "    <tr>\n",
       "      <th>min</th>\n",
       "      <td>-1.883717e+00</td>\n",
       "      <td>-1.461758e+00</td>\n",
       "      <td>-1.739179e+00</td>\n",
       "      <td>-1.582955e+00</td>\n",
       "      <td>-1.722371e+00</td>\n",
       "      <td>-1.405346e+00</td>\n",
       "      <td>-1.117455e+00</td>\n",
       "      <td>-1.476090e+00</td>\n",
       "      <td>-1.601320e+00</td>\n",
       "      <td>-1.026975e+00</td>\n",
       "      <td>...</td>\n",
       "      <td>-1.672936e+00</td>\n",
       "      <td>-1.496149e+00</td>\n",
       "      <td>-1.755017e+00</td>\n",
       "      <td>-3.865329e+00</td>\n",
       "      <td>-2.035237e+00</td>\n",
       "      <td>-1.835293e+00</td>\n",
       "      <td>-1.556558e+00</td>\n",
       "      <td>-1.185446e+00</td>\n",
       "      <td>-1.985895e+00</td>\n",
       "      <td>-4.641208e+00</td>\n",
       "    </tr>\n",
       "    <tr>\n",
       "      <th>25%</th>\n",
       "      <td>-8.929480e-01</td>\n",
       "      <td>-1.001573e+00</td>\n",
       "      <td>-9.402965e-01</td>\n",
       "      <td>-9.318789e-01</td>\n",
       "      <td>-1.134687e+00</td>\n",
       "      <td>-9.154541e-01</td>\n",
       "      <td>-1.117455e+00</td>\n",
       "      <td>-7.610998e-01</td>\n",
       "      <td>-8.864705e-01</td>\n",
       "      <td>-1.026975e+00</td>\n",
       "      <td>...</td>\n",
       "      <td>-1.145802e+00</td>\n",
       "      <td>-9.207299e-01</td>\n",
       "      <td>-1.240686e+00</td>\n",
       "      <td>-2.533943e-02</td>\n",
       "      <td>-5.114542e-01</td>\n",
       "      <td>-6.799899e-01</td>\n",
       "      <td>-1.629840e-01</td>\n",
       "      <td>-1.185446e+00</td>\n",
       "      <td>-7.153222e-01</td>\n",
       "      <td>-4.101454e-01</td>\n",
       "    </tr>\n",
       "    <tr>\n",
       "      <th>50%</th>\n",
       "      <td>9.782107e-02</td>\n",
       "      <td>3.789796e-01</td>\n",
       "      <td>2.580266e-01</td>\n",
       "      <td>5.782714e-16</td>\n",
       "      <td>4.068102e-02</td>\n",
       "      <td>5.542203e-01</td>\n",
       "      <td>-4.418671e-01</td>\n",
       "      <td>-4.610947e-02</td>\n",
       "      <td>-1.716210e-01</td>\n",
       "      <td>-3.514166e-01</td>\n",
       "      <td>...</td>\n",
       "      <td>-9.153516e-02</td>\n",
       "      <td>2.301080e-01</td>\n",
       "      <td>3.023068e-01</td>\n",
       "      <td>5.232305e-01</td>\n",
       "      <td>-5.114542e-01</td>\n",
       "      <td>1.026116e-15</td>\n",
       "      <td>-1.629840e-01</td>\n",
       "      <td>-1.572224e-01</td>\n",
       "      <td>-1.745145e-01</td>\n",
       "      <td>-4.101454e-01</td>\n",
       "    </tr>\n",
       "    <tr>\n",
       "      <th>75%</th>\n",
       "      <td>1.088590e+00</td>\n",
       "      <td>8.391639e-01</td>\n",
       "      <td>1.056909e+00</td>\n",
       "      <td>1.021348e+00</td>\n",
       "      <td>6.283651e-01</td>\n",
       "      <td>1.044112e+00</td>\n",
       "      <td>9.093079e-01</td>\n",
       "      <td>6.688808e-01</td>\n",
       "      <td>1.258078e+00</td>\n",
       "      <td>9.996996e-01</td>\n",
       "      <td>...</td>\n",
       "      <td>9.627320e-01</td>\n",
       "      <td>8.055270e-01</td>\n",
       "      <td>8.166379e-01</td>\n",
       "      <td>5.232305e-01</td>\n",
       "      <td>5.044008e-01</td>\n",
       "      <td>1.052965e+00</td>\n",
       "      <td>5.338032e-01</td>\n",
       "      <td>7.607643e-01</td>\n",
       "      <td>5.161557e-01</td>\n",
       "      <td>1.374332e-13</td>\n",
       "    </tr>\n",
       "    <tr>\n",
       "      <th>max</th>\n",
       "      <td>1.088590e+00</td>\n",
       "      <td>1.299348e+00</td>\n",
       "      <td>1.456350e+00</td>\n",
       "      <td>1.672424e+00</td>\n",
       "      <td>1.216049e+00</td>\n",
       "      <td>1.044112e+00</td>\n",
       "      <td>1.584895e+00</td>\n",
       "      <td>1.383871e+00</td>\n",
       "      <td>1.258078e+00</td>\n",
       "      <td>1.675258e+00</td>\n",
       "      <td>...</td>\n",
       "      <td>1.489866e+00</td>\n",
       "      <td>1.956365e+00</td>\n",
       "      <td>1.330969e+00</td>\n",
       "      <td>5.232305e-01</td>\n",
       "      <td>2.028183e+00</td>\n",
       "      <td>1.052965e+00</td>\n",
       "      <td>1.927377e+00</td>\n",
       "      <td>2.530466e+00</td>\n",
       "      <td>3.226710e+00</td>\n",
       "      <td>5.029792e+00</td>\n",
       "    </tr>\n",
       "  </tbody>\n",
       "</table>\n",
       "<p>8 rows × 222 columns</p>\n",
       "</div>"
      ],
      "text/plain": [
       "       ALTERSKATEGORIE_GROB      BALLRAUM  CAMEO_DEUG_2015  CJT_GESAMTTYP  \\\n",
       "count          9.257920e+05  9.257920e+05     9.257920e+05   9.257920e+05   \n",
       "mean           2.416198e-13 -6.668545e-14     1.993866e-13  -1.613988e-13   \n",
       "std            1.000001e+00  1.000001e+00     1.000001e+00   1.000001e+00   \n",
       "min           -1.883717e+00 -1.461758e+00    -1.739179e+00  -1.582955e+00   \n",
       "25%           -8.929480e-01 -1.001573e+00    -9.402965e-01  -9.318789e-01   \n",
       "50%            9.782107e-02  3.789796e-01     2.580266e-01   5.782714e-16   \n",
       "75%            1.088590e+00  8.391639e-01     1.056909e+00   1.021348e+00   \n",
       "max            1.088590e+00  1.299348e+00     1.456350e+00   1.672424e+00   \n",
       "\n",
       "           EWDICHTE     FINANZTYP  FINANZ_ANLEGER  FINANZ_HAUSBAUER  \\\n",
       "count  9.257920e+05  9.257920e+05    9.257920e+05      9.257920e+05   \n",
       "mean   1.400916e-14  1.656602e-13    5.124178e-13     -1.501040e-13   \n",
       "std    1.000001e+00  1.000001e+00    1.000001e+00      1.000001e+00   \n",
       "min   -1.722371e+00 -1.405346e+00   -1.117455e+00     -1.476090e+00   \n",
       "25%   -1.134687e+00 -9.154541e-01   -1.117455e+00     -7.610998e-01   \n",
       "50%    4.068102e-02  5.542203e-01   -4.418671e-01     -4.610947e-02   \n",
       "75%    6.283651e-01  1.044112e+00    9.093079e-01      6.688808e-01   \n",
       "max    1.216049e+00  1.044112e+00    1.584895e+00      1.383871e+00   \n",
       "\n",
       "       FINANZ_MINIMALIST  FINANZ_SPARER  ...     SEMIO_SOZ   SEMIO_TRADV  \\\n",
       "count       9.257920e+05   9.257920e+05  ...  9.257920e+05  9.257920e+05   \n",
       "mean       -9.476678e-14  -9.354424e-15  ... -4.656376e-14  7.028464e-13   \n",
       "std         1.000001e+00   1.000001e+00  ...  1.000001e+00  1.000001e+00   \n",
       "min        -1.601320e+00  -1.026975e+00  ... -1.672936e+00 -1.496149e+00   \n",
       "25%        -8.864705e-01  -1.026975e+00  ... -1.145802e+00 -9.207299e-01   \n",
       "50%        -1.716210e-01  -3.514166e-01  ... -9.153516e-02  2.301080e-01   \n",
       "75%         1.258078e+00   9.996996e-01  ...  9.627320e-01  8.055270e-01   \n",
       "max         1.258078e+00   1.675258e+00  ...  1.489866e+00  1.956365e+00   \n",
       "\n",
       "         SEMIO_VERT  WOHNDAUER_2008      WOHNLAGE  W_KEIT_KIND_HH  \\\n",
       "count  9.257920e+05    9.257920e+05  9.257920e+05    9.257920e+05   \n",
       "mean  -7.061738e-13    5.723226e-13 -3.377518e-16   -3.679613e-14   \n",
       "std    1.000001e+00    1.000001e+00  1.000001e+00    1.000001e+00   \n",
       "min   -1.755017e+00   -3.865329e+00 -2.035237e+00   -1.835293e+00   \n",
       "25%   -1.240686e+00   -2.533943e-02 -5.114542e-01   -6.799899e-01   \n",
       "50%    3.023068e-01    5.232305e-01 -5.114542e-01    1.026116e-15   \n",
       "75%    8.166379e-01    5.232305e-01  5.044008e-01    1.052965e+00   \n",
       "max    1.330969e+00    5.232305e-01  2.028183e+00    1.052965e+00   \n",
       "\n",
       "           ZABEOTYP  ANZ_HAUSHALTE_AKTIV  KBA13_ANZAHL_PKW  MIN_GEBAEUDEJAHR  \n",
       "count  9.257920e+05         9.257920e+05      9.257920e+05      9.257920e+05  \n",
       "mean  -3.008738e-13        -3.333662e-13     -3.442293e-15      1.174630e-13  \n",
       "std    1.000001e+00         1.000001e+00      1.000001e+00      1.000001e+00  \n",
       "min   -1.556558e+00        -1.185446e+00     -1.985895e+00     -4.641208e+00  \n",
       "25%   -1.629840e-01        -1.185446e+00     -7.153222e-01     -4.101454e-01  \n",
       "50%   -1.629840e-01        -1.572224e-01     -1.745145e-01     -4.101454e-01  \n",
       "75%    5.338032e-01         7.607643e-01      5.161557e-01      1.374332e-13  \n",
       "max    1.927377e+00         2.530466e+00      3.226710e+00      5.029792e+00  \n",
       "\n",
       "[8 rows x 222 columns]"
      ]
     },
     "execution_count": 75,
     "metadata": {},
     "output_type": "execute_result"
    }
   ],
   "source": [
    "features_numerical_scaled.describe()"
   ]
  },
  {
   "cell_type": "markdown",
   "metadata": {},
   "source": [
    "### 4. Dimensionality Reduction with PCA"
   ]
  },
  {
   "cell_type": "code",
   "execution_count": 76,
   "metadata": {},
   "outputs": [],
   "source": [
    "# Fit PCA model with 90% variance reserved and transform the original features to PCA features\n",
    "pca = PCA(n_components=0.9)\n",
    "features_PCA = pca.fit_transform(features_numerical_scaled)"
   ]
  },
  {
   "cell_type": "code",
   "execution_count": 77,
   "metadata": {},
   "outputs": [
    {
     "name": "stdout",
     "output_type": "stream",
     "text": [
      "(925792, 222)\n",
      "(925792, 113)\n"
     ]
    }
   ],
   "source": [
    "print(features_numerical_scaled.shape)\n",
    "print(features_PCA.shape)"
   ]
  },
  {
   "cell_type": "code",
   "execution_count": 78,
   "metadata": {},
   "outputs": [
    {
     "data": {
      "text/plain": [
       "array([0.09001775, 0.0709946 , 0.03968931, 0.03298661, 0.02871145,\n",
       "       0.02637272, 0.02432232, 0.02230852, 0.02128348, 0.01975395,\n",
       "       0.01723178, 0.01552393, 0.01437448, 0.01374897, 0.01315877,\n",
       "       0.01265559, 0.0122826 , 0.01098903, 0.01088617, 0.01035357,\n",
       "       0.0098743 , 0.00952008, 0.0088004 , 0.00868379, 0.00840486,\n",
       "       0.00807612, 0.00784669, 0.00756045, 0.0072754 , 0.00714193,\n",
       "       0.00684464, 0.0066998 , 0.00659744, 0.00641177, 0.00627714,\n",
       "       0.00624415, 0.00613641, 0.0060412 , 0.00597511, 0.00586891,\n",
       "       0.00576129, 0.00549813, 0.0054664 , 0.00540964, 0.00530975,\n",
       "       0.00511035, 0.00494336, 0.00488137, 0.0048156 , 0.00472322,\n",
       "       0.00465668, 0.0045717 , 0.00441679, 0.0043405 , 0.00428731,\n",
       "       0.00423085, 0.00417901, 0.00413211, 0.00411199, 0.00401553,\n",
       "       0.00397689, 0.00391437, 0.00387052, 0.00383094, 0.00380138,\n",
       "       0.00378756, 0.00374397, 0.00370415, 0.00364913, 0.00361314,\n",
       "       0.00357833, 0.00352793, 0.00344247, 0.0034177 , 0.00338786,\n",
       "       0.00332394, 0.00328013, 0.00323094, 0.00315626, 0.00312401,\n",
       "       0.00307686, 0.00305222, 0.00300256, 0.00296296, 0.00294039,\n",
       "       0.0028913 , 0.00286185, 0.00283016, 0.00279927, 0.0026863 ,\n",
       "       0.00267101, 0.00263438, 0.0026017 , 0.00257898, 0.00250879,\n",
       "       0.00248693, 0.00244379, 0.00238508, 0.00238005, 0.00232097,\n",
       "       0.00228206, 0.00225025, 0.0022471 , 0.0021896 , 0.00217755,\n",
       "       0.00210987, 0.00209163, 0.00207558, 0.00204934, 0.00203002,\n",
       "       0.00193466, 0.00191429, 0.00186696])"
      ]
     },
     "execution_count": 78,
     "metadata": {},
     "output_type": "execute_result"
    }
   ],
   "source": [
    "# Check out explained variance ratios of the principal components\n",
    "pca.explained_variance_ratio_"
   ]
  },
  {
   "cell_type": "code",
   "execution_count": 79,
   "metadata": {
    "scrolled": true
   },
   "outputs": [
    {
     "data": {
      "image/png": "[encoded data removed]",
      "text/plain": [
       "<Figure size 720x432 with 2 Axes>"
      ]
     },
     "metadata": {
      "needs_background": "light"
     },
     "output_type": "display_data"
    }
   ],
   "source": [
    "# Plot explained variance ratios and cumulative explained variance ratios\n",
    "plt.figure(figsize=(10, 6))\n",
    "plt.subplot(1, 2, 1)\n",
    "plt.plot(pca.explained_variance_ratio_)\n",
    "plt.xlabel('Principal Component')\n",
    "plt.ylabel('Explained Variance Ratio')\n",
    "\n",
    "plt.subplot(1, 2, 2)\n",
    "plt.plot(pca.explained_variance_ratio_.cumsum())\n",
    "plt.xlabel('Principal Component')\n",
    "plt.ylabel('Cumulative Explained Variance Ratio')\n",
    "\n",
    "plt.subplots_adjust(wspace=0.2, left=0, right=1.5)\n",
    "plt.show()"
   ]
  },
  {
   "cell_type": "markdown",
   "metadata": {},
   "source": [
    "### 5. Principal Components Interpretation"
   ]
  },
  {
   "cell_type": "code",
   "execution_count": 80,
   "metadata": {},
   "outputs": [
    {
     "data": {
      "text/plain": [
       "Feature\n",
       "ALTERSKATEGORIE_GROB         age classification through prename analysis \n",
       "BALLRAUM                                   distance to next urban centre \n",
       "CAMEO_DEUG_2015                    CAMEO classification 2015 - Uppergroup\n",
       "CJT_GESAMTTYP                                   customer journey typology\n",
       "EWDICHTE                      density of inhabitants per square kilometer\n",
       "                                              ...                        \n",
       "W_KEIT_KIND_HH            likelihood of a child present in this household\n",
       "ZABEOTYP                                 typification of energy consumers\n",
       "ANZ_HAUSHALTE_AKTIV                  number of households in the building\n",
       "KBA13_ANZAHL_PKW                               number of cars in the PLZ8\n",
       "MIN_GEBAEUDEJAHR        year the building was first mentioned in our d...\n",
       "Name: Description, Length: 222, dtype: object"
      ]
     },
     "execution_count": 80,
     "metadata": {},
     "output_type": "execute_result"
    }
   ],
   "source": [
    "# Extract the descriptions of the original features\n",
    "feature_names = features_numerical_scaled.columns.values\n",
    "feature_descriptions = features_info.loc[feature_names, 'Description']\n",
    "feature_descriptions"
   ]
  },
  {
   "cell_type": "code",
   "execution_count": 81,
   "metadata": {},
   "outputs": [],
   "source": [
    "def display_makeup_of_principal_component(principal_components, feature_names, feature_descriptions, n_principal_component, n_weights=15):\n",
    "    \"\"\" \n",
    "    The function displays weights and descriptions of the original features\n",
    "    included in a particular principal component.\n",
    "    \"\"\"\n",
    "    # get the list of weights from a row in components matrix\n",
    "    principal_component_n = principal_components[n_principal_component-1, :]\n",
    "\n",
    "    # match weights to features\n",
    "    comps = pd.DataFrame(np.stack([principal_component_n, feature_names], axis=1), columns=['Weights', 'Features'])\n",
    "\n",
    "    # sort by the largest n_weights by magnitude since weights could be neg/pos\n",
    "    comps['Abs_Weights'] = comps['Weights'].apply(np.abs)\n",
    "    sorted_weights_data = comps.sort_values('Abs_Weights', ascending=False).head(n_weights)\n",
    "    \n",
    "    # display using seaborn\n",
    "    plt.subplots(figsize=(10,5))\n",
    "    ax = sns.barplot(data=sorted_weights_data,\n",
    "                     x='Weights',\n",
    "                     y='Features',\n",
    "                     palette=\"Blues_d\")\n",
    "    \n",
    "    ax.set_title(\"Principal Component Makeup, Component #\" + str(n_principal_component))\n",
    "    plt.show()\n",
    "    \n",
    "    # print features descriptions\n",
    "    feature_weights_descriptions = sorted_weights_data.set_index('Features')\n",
    "    feature_weights_descriptions['Descriptions'] = feature_descriptions[sorted_weights_data['Features']].values\n",
    "    feature_weights_descriptions['Associations'] = feature_weights_descriptions['Weights'].apply(lambda a: 'Positive' if a>0 else 'Negative')\n",
    "    \n",
    "    print(feature_weights_descriptions[['Descriptions', 'Associations']])"
   ]
  },
  {
   "cell_type": "markdown",
   "metadata": {},
   "source": [
    "#### Principal Component 1"
   ]
  },
  {
   "cell_type": "code",
   "execution_count": 82,
   "metadata": {},
   "outputs": [
    {
     "data": {
      "image/png": "[encoded data removed]",
      "text/plain": [
       "<Figure size 720x360 with 1 Axes>"
      ]
     },
     "metadata": {
      "needs_background": "light"
     },
     "output_type": "display_data"
    },
    {
     "name": "stdout",
     "output_type": "stream",
     "text": [
      "                                                    Descriptions Associations\n",
      "Features                                                                     \n",
      "HH_EINKOMMEN_SCORE               estimated household net income      Positive\n",
      "MOBI_REGIO                                       moving patterns     Negative\n",
      "CAMEO_DEUG_2015           CAMEO classification 2015 - Uppergroup     Positive\n",
      "PLZ8_ANTG1               number of 1-2 family houses in the PLZ8     Negative\n",
      "KBA05_ANTG1              number of 1-2 family houses in the cell     Negative\n",
      "ANZ_HAUSHALTE_AKTIV         number of households in the building     Positive\n",
      "LP_STATUS_GROB                               social status rough     Negative\n",
      "PLZ8_ANTG3              number of 6-10 family houses in the PLZ8     Positive\n",
      "PLZ8_BAUMAX            most common building-type within the PLZ8     Positive\n",
      "PLZ8_ANTG4               number of >10 family houses in the PLZ8     Positive\n",
      "KBA05_GBZ                   number of buildings in the microcell     Negative\n",
      "KBA05_AUTOQUOT                       share of cars per household     Negative\n",
      "FINANZ_MINIMALIST     financial typology: low financial interest     Negative\n",
      "KBA13_AUTOQUOTE      share of cars per household within the PLZ8     Negative\n",
      "PLZ8_GBZ                     number of buildings within the PLZ8     Negative\n"
     ]
    }
   ],
   "source": [
    "# Display makeup of first principal component \n",
    "display_makeup_of_principal_component(pca.components_, feature_names, feature_descriptions, 1)"
   ]
  },
  {
   "cell_type": "markdown",
   "metadata": {},
   "source": [
    "**Feature Makeup:** low Income, low social class, high mobility (moving often), low financial interest, low share of cars per household, low share of 1-2 family houses and high share of 6+ family houses in the region.\n",
    "\n",
    "**Feature Interpretaion:** Lower Class Index"
   ]
  },
  {
   "cell_type": "markdown",
   "metadata": {},
   "source": [
    "#### Principal Component 2"
   ]
  },
  {
   "cell_type": "code",
   "execution_count": 83,
   "metadata": {},
   "outputs": [
    {
     "data": {
      "image/png": "[encoded data removed]",
      "text/plain": [
       "<Figure size 720x360 with 1 Axes>"
      ]
     },
     "metadata": {
      "needs_background": "light"
     },
     "output_type": "display_data"
    },
    {
     "name": "stdout",
     "output_type": "stream",
     "text": [
      "                                                                  Descriptions  \\\n",
      "Features                                                                         \n",
      "KBA13_HERST_BMW_BENZ              share of BMW & Mercedes Benz within the PLZ8   \n",
      "EWDICHTE                           density of inhabitants per square kilometer   \n",
      "KBA13_ALTERHALTER_60         share of car owners between 46 and 60 within t...   \n",
      "ORTSGR_KLS9                                              size of the community   \n",
      "KBA13_SEG_OBEREMITTELKLASSE  share of upper middle class cars and upper cla...   \n",
      "KBA13_BMW                                         share of BMW within the PLZ8   \n",
      "KBA13_HALTER_55              share of car owners between 51 and 55 within t...   \n",
      "KBA13_HALTER_50              share of car owners between 46 and 50 within t...   \n",
      "KBA13_MERCEDES                               share of MERCEDES within the PLZ8   \n",
      "KBA13_HALTER_20                   share of car owners below 21 within the PLZ8   \n",
      "KBA13_SITZE_4                number of cars with less than 5 seats in the PLZ8   \n",
      "KONSUMNAEHE                    distance from a building to PoS (Point of Sale)   \n",
      "KBA13_SEG_SPORTWAGEN                       share of sportscars within the PLZ8   \n",
      "KBA13_AUTOQUOTE                    share of cars per household within the PLZ8   \n",
      "KBA13_SITZE_5                          number of cars with 5 seats in the PLZ8   \n",
      "\n",
      "                            Associations  \n",
      "Features                                  \n",
      "KBA13_HERST_BMW_BENZ            Positive  \n",
      "EWDICHTE                        Positive  \n",
      "KBA13_ALTERHALTER_60            Negative  \n",
      "ORTSGR_KLS9                     Positive  \n",
      "KBA13_SEG_OBEREMITTELKLASSE     Positive  \n",
      "KBA13_BMW                       Positive  \n",
      "KBA13_HALTER_55                 Negative  \n",
      "KBA13_HALTER_50                 Negative  \n",
      "KBA13_MERCEDES                  Positive  \n",
      "KBA13_HALTER_20                 Negative  \n",
      "KBA13_SITZE_4                   Positive  \n",
      "KONSUMNAEHE                     Negative  \n",
      "KBA13_SEG_SPORTWAGEN            Positive  \n",
      "KBA13_AUTOQUOTE                 Negative  \n",
      "KBA13_SITZE_5                   Negative  \n"
     ]
    }
   ],
   "source": [
    "# Display makeup of second principal component \n",
    "display_makeup_of_principal_component(pca.components_, feature_names, feature_descriptions, 2, 15)"
   ]
  },
  {
   "cell_type": "markdown",
   "metadata": {},
   "source": [
    "**Feature Makeup:** large comunity size, high inhabitant density, high share of upper class cars as well as cars with less than 5 seats in the PLZ8, few car owners older than 46 and yonger than 21.\n",
    "\n",
    "**Feature Interpretaion:** Urban Area/Metropolis Index"
   ]
  },
  {
   "cell_type": "markdown",
   "metadata": {},
   "source": [
    "#### Principal Component 3"
   ]
  },
  {
   "cell_type": "code",
   "execution_count": 84,
   "metadata": {
    "scrolled": false
   },
   "outputs": [
    {
     "data": {
      "image/png": "[encoded data removed]",
      "text/plain": [
       "<Figure size 720x360 with 1 Axes>"
      ]
     },
     "metadata": {
      "needs_background": "light"
     },
     "output_type": "display_data"
    },
    {
     "name": "stdout",
     "output_type": "stream",
     "text": [
      "                                                            Descriptions  \\\n",
      "Features                                                                   \n",
      "FINANZ_SPARER                            financial typology: money saver   \n",
      "ALTERSKATEGORIE_GROB        age classification through prename analysis    \n",
      "SEMIO_PFLICHT          affinity indicating in what way the person is ...   \n",
      "SEMIO_REL              affinity indicating in what way the person is ...   \n",
      "FINANZ_UNAUFFAELLIGER                   financial typology: unremarkable   \n",
      "SEMIO_TRADV            affinity indicating in what way the person is ...   \n",
      "FINANZ_VORSORGER                         financial typology: be prepared   \n",
      "FINANZ_ANLEGER                              financial typology: investor   \n",
      "SEMIO_RAT              affinity indicating in what way the person is ...   \n",
      "SEMIO_LUST             affinity indicating in what way the person is ...   \n",
      "SEMIO_ERL              affinity indicating in what way the person is ...   \n",
      "SEMIO_KULT             affinity indicating in what way the person is ...   \n",
      "RETOURTYP_BK_S                                               return type   \n",
      "SEMIO_FAM              affinity indicating in what way the person is ...   \n",
      "SEMIO_MAT              affinity indicating in what way the person is ...   \n",
      "\n",
      "                      Associations  \n",
      "Features                            \n",
      "FINANZ_SPARER             Negative  \n",
      "ALTERSKATEGORIE_GROB      Positive  \n",
      "SEMIO_PFLICHT             Negative  \n",
      "SEMIO_REL                 Negative  \n",
      "FINANZ_UNAUFFAELLIGER     Negative  \n",
      "SEMIO_TRADV               Negative  \n",
      "FINANZ_VORSORGER          Positive  \n",
      "FINANZ_ANLEGER            Negative  \n",
      "SEMIO_RAT                 Negative  \n",
      "SEMIO_LUST                Positive  \n",
      "SEMIO_ERL                 Positive  \n",
      "SEMIO_KULT                Negative  \n",
      "RETOURTYP_BK_S            Positive  \n",
      "SEMIO_FAM                 Negative  \n",
      "SEMIO_MAT                 Negative  \n"
     ]
    }
   ],
   "source": [
    "# Display makeup of third principal component \n",
    "display_makeup_of_principal_component(pca.components_, feature_names, feature_descriptions, 3, 15)"
   ]
  },
  {
   "cell_type": "markdown",
   "metadata": {},
   "source": [
    "**Feature Makeup:** high savings, wealth management, great age, dutyfull-religious-rational-familiar minded\n",
    "\n",
    "**Feature Interpretaion:** Financial Awareness Index"
   ]
  },
  {
   "cell_type": "markdown",
   "metadata": {},
   "source": [
    "#### Principal Component 4"
   ]
  },
  {
   "cell_type": "code",
   "execution_count": 85,
   "metadata": {},
   "outputs": [
    {
     "data": {
      "image/png": "[encoded data removed]",
      "text/plain": [
       "<Figure size 720x360 with 1 Axes>"
      ]
     },
     "metadata": {
      "needs_background": "light"
     },
     "output_type": "display_data"
    },
    {
     "name": "stdout",
     "output_type": "stream",
     "text": [
      "                                                          Descriptions  \\\n",
      "Features                                                                 \n",
      "KBA13_KW_0_60            share of cars up to 60 KW engine power - PLZ8   \n",
      "KBA13_KW_61_120      share of cars with an engine power between 61 ...   \n",
      "KBA13_BJ_2000        share of cars built between 2000 and 2003 with...   \n",
      "KBA13_CCM_0_1400     share of cars with less than 1400ccm within th...   \n",
      "KBA13_CCM_1400_2500  share of cars with 1400ccm to 2499ccm within t...   \n",
      "KBA13_KMH_140        share of cars with max speed between 110 km/h ...   \n",
      "KBA13_KMH_0_140      share of cars with max speed 140 km/h within t...   \n",
      "KBA13_SITZE_5                  number of cars with 5 seats in the PLZ8   \n",
      "KBA13_KMH_180        share of cars with max speed between 110 km/h ...   \n",
      "KBA13_CCM_1000       share of cars with less than 1000ccm within th...   \n",
      "KBA13_VORB_0                     share of cars with no preowner - PLZ8   \n",
      "KBA13_SITZE_4        number of cars with less than 5 seats in the PLZ8   \n",
      "FINANZ_VORSORGER                       financial typology: be prepared   \n",
      "KBA13_KW_40          share of cars with an engine power between 31 ...   \n",
      "KBA13_BJ_1999        share of cars built between 1995 and 1999 with...   \n",
      "\n",
      "                    Associations  \n",
      "Features                          \n",
      "KBA13_KW_0_60           Negative  \n",
      "KBA13_KW_61_120         Positive  \n",
      "KBA13_BJ_2000           Negative  \n",
      "KBA13_CCM_0_1400        Negative  \n",
      "KBA13_CCM_1400_2500     Positive  \n",
      "KBA13_KMH_140           Negative  \n",
      "KBA13_KMH_0_140         Negative  \n",
      "KBA13_SITZE_5           Positive  \n",
      "KBA13_KMH_180           Negative  \n",
      "KBA13_CCM_1000          Negative  \n",
      "KBA13_VORB_0            Positive  \n",
      "KBA13_SITZE_4           Negative  \n",
      "FINANZ_VORSORGER        Negative  \n",
      "KBA13_KW_40             Negative  \n",
      "KBA13_BJ_1999           Negative  \n"
     ]
    }
   ],
   "source": [
    "# Display makeup of fourth principal component \n",
    "display_makeup_of_principal_component(pca.components_, feature_names, feature_descriptions, 4, 15)"
   ]
  },
  {
   "cell_type": "markdown",
   "metadata": {},
   "source": [
    "**Feature Makeup:** Region with low share of cars up to 60 KW engine power, less than 1400ccm, with max speed 140 km/h, less than 5 seats, built before 2003; high share of cars with engine power between 61 and 120 KW, with 1400ccm to 2499ccm, 5 seats; yonger car owners\n",
    "\n",
    "**Feature Interpretaion:** Performance-Cars Region Index"
   ]
  },
  {
   "cell_type": "markdown",
   "metadata": {},
   "source": [
    "### 6. K-Means Clustering"
   ]
  },
  {
   "cell_type": "code",
   "execution_count": 85,
   "metadata": {},
   "outputs": [],
   "source": [
    "# Select optimal number of clusters with elbow method \n",
    "ks = range(1, 30)\n",
    "inertias = []\n",
    "\n",
    "for k in ks:\n",
    "    # Create a KMeans instance with k clusters: model\n",
    "    model = KMeans(random_state=42, n_clusters=k, n_jobs=10)\n",
    "    \n",
    "    # Fit model to data\n",
    "    model.fit(azdias_PCs)\n",
    "    \n",
    "    # Append the inertia to the list of inertias\n",
    "    inertias.append(model.inertia_)\n",
    " "
   ]
  },
  {
   "cell_type": "code",
   "execution_count": 99,
   "metadata": {
    "scrolled": false
   },
   "outputs": [
    {
     "data": {
      "image/png": "[encoded data removed]",
      "text/plain": [
       "<Figure size 1080x720 with 1 Axes>"
      ]
     },
     "metadata": {
      "needs_background": "light"
     },
     "output_type": "display_data"
    }
   ],
   "source": [
    "# Plot number of clusters K vs. inertia\n",
    "plt.figure(figsize = (15, 10))\n",
    "plt.plot(ks, inertias, '-o')\n",
    "plt.xlabel('number of clusters, k')\n",
    "plt.ylabel('inertia')\n",
    "plt.xticks(ks)\n",
    "plt.show()"
   ]
  },
  {
   "cell_type": "markdown",
   "metadata": {},
   "source": [
    "**Conclusion:** Inertia drops smoothly, the value is small enough with 20 clusters."
   ]
  },
  {
   "cell_type": "code",
   "execution_count": 86,
   "metadata": {},
   "outputs": [],
   "source": [
    "# Fit K-Means again with chosen optimal number of clusters\n",
    "kmeans = KMeans(n_clusters=20, random_state=42, n_jobs=10).fit(features_PCA)"
   ]
  },
  {
   "cell_type": "code",
   "execution_count": 87,
   "metadata": {},
   "outputs": [
    {
     "data": {
      "text/plain": [
       "17    73840\n",
       "3     70029\n",
       "16    62523\n",
       "5     54882\n",
       "12    52996\n",
       "11    52695\n",
       "10    50230\n",
       "2     48026\n",
       "15    47566\n",
       "8     45532\n",
       "6     45367\n",
       "4     42832\n",
       "14    41588\n",
       "20    40534\n",
       "1     35797\n",
       "13    35491\n",
       "18    32790\n",
       "9     32580\n",
       "19    32177\n",
       "7     28317\n",
       "dtype: int64"
      ]
     },
     "execution_count": 87,
     "metadata": {},
     "output_type": "execute_result"
    }
   ],
   "source": [
    "# Check out the clusters distribution\n",
    "cluster_labels = pd.Series(kmeans.labels_+1).astype('category')\n",
    "cluster_counts = cluster_labels.value_counts()\n",
    "cluster_counts"
   ]
  },
  {
   "cell_type": "code",
   "execution_count": 88,
   "metadata": {
    "scrolled": false
   },
   "outputs": [
    {
     "data": {
      "image/png": "[encoded data removed]",
      "text/plain": [
       "<Figure size 720x432 with 1 Axes>"
      ]
     },
     "metadata": {
      "needs_background": "light"
     },
     "output_type": "display_data"
    }
   ],
   "source": [
    "# Plot clusters distribution\n",
    "plt.figure(figsize=(10, 6))\n",
    "cluster_counts.plot(kind='bar')\n",
    "plt.title('Cluster Distribution')\n",
    "plt.xlabel('Cluster')\n",
    "plt.ylabel('Frequency')\n",
    "plt.show()"
   ]
  },
  {
   "cell_type": "code",
   "execution_count": 89,
   "metadata": {},
   "outputs": [
    {
     "data": {
      "text/plain": [
       "(20, 113)"
      ]
     },
     "execution_count": 89,
     "metadata": {},
     "output_type": "execute_result"
    }
   ],
   "source": [
    "# Check out the dimension of the Cluster Centroids\n",
    "kmeans.cluster_centers_.shape"
   ]
  },
  {
   "cell_type": "code",
   "execution_count": 90,
   "metadata": {},
   "outputs": [],
   "source": [
    "# Get all the Centroids in a DataFrame\n",
    "PCA_feature_names = ['PC_' + str(i) for i in range(1, features_PCA.shape[1]+1)]\n",
    "cluster_centroids = pd.DataFrame(kmeans.cluster_centers_, \n",
    "                                 columns=PCA_feature_names, \n",
    "                                 index=range(1,kmeans.n_clusters+1)).T   "
   ]
  },
  {
   "cell_type": "code",
   "execution_count": 91,
   "metadata": {
    "scrolled": true
   },
   "outputs": [
    {
     "data": {
      "text/html": [
       "<div>\n",
       "<style scoped>\n",
       "    .dataframe tbody tr th:only-of-type {\n",
       "        vertical-align: middle;\n",
       "    }\n",
       "\n",
       "    .dataframe tbody tr th {\n",
       "        vertical-align: top;\n",
       "    }\n",
       "\n",
       "    .dataframe thead th {\n",
       "        text-align: right;\n",
       "    }\n",
       "</style>\n",
       "<table border=\"1\" class=\"dataframe\">\n",
       "  <thead>\n",
       "    <tr style=\"text-align: right;\">\n",
       "      <th></th>\n",
       "      <th>1</th>\n",
       "      <th>2</th>\n",
       "      <th>3</th>\n",
       "      <th>4</th>\n",
       "      <th>5</th>\n",
       "      <th>6</th>\n",
       "      <th>7</th>\n",
       "      <th>8</th>\n",
       "      <th>9</th>\n",
       "      <th>10</th>\n",
       "      <th>11</th>\n",
       "      <th>12</th>\n",
       "      <th>13</th>\n",
       "      <th>14</th>\n",
       "      <th>15</th>\n",
       "      <th>16</th>\n",
       "      <th>17</th>\n",
       "      <th>18</th>\n",
       "      <th>19</th>\n",
       "      <th>20</th>\n",
       "    </tr>\n",
       "  </thead>\n",
       "  <tbody>\n",
       "    <tr>\n",
       "      <th>PC_1</th>\n",
       "      <td>1.905997</td>\n",
       "      <td>4.531604</td>\n",
       "      <td>-4.813697</td>\n",
       "      <td>7.074930</td>\n",
       "      <td>-3.551885</td>\n",
       "      <td>-1.875682</td>\n",
       "      <td>7.860416</td>\n",
       "      <td>5.029053</td>\n",
       "      <td>6.710390</td>\n",
       "      <td>0.668914</td>\n",
       "      <td>-2.567855</td>\n",
       "      <td>-1.679784</td>\n",
       "      <td>-6.429204</td>\n",
       "      <td>4.323058</td>\n",
       "      <td>0.828306</td>\n",
       "      <td>-5.149334</td>\n",
       "      <td>-1.890514</td>\n",
       "      <td>1.457816</td>\n",
       "      <td>-0.138097</td>\n",
       "      <td>-0.595633</td>\n",
       "    </tr>\n",
       "    <tr>\n",
       "      <th>PC_2</th>\n",
       "      <td>-7.262118</td>\n",
       "      <td>-0.115629</td>\n",
       "      <td>-2.382396</td>\n",
       "      <td>3.280701</td>\n",
       "      <td>1.792943</td>\n",
       "      <td>-1.369799</td>\n",
       "      <td>-2.095910</td>\n",
       "      <td>0.111657</td>\n",
       "      <td>-2.372748</td>\n",
       "      <td>2.869728</td>\n",
       "      <td>-4.879402</td>\n",
       "      <td>-1.836162</td>\n",
       "      <td>7.035127</td>\n",
       "      <td>3.387420</td>\n",
       "      <td>-0.304395</td>\n",
       "      <td>1.049477</td>\n",
       "      <td>-2.282482</td>\n",
       "      <td>8.413409</td>\n",
       "      <td>-3.288864</td>\n",
       "      <td>3.803621</td>\n",
       "    </tr>\n",
       "    <tr>\n",
       "      <th>PC_3</th>\n",
       "      <td>0.872820</td>\n",
       "      <td>1.744890</td>\n",
       "      <td>-0.543239</td>\n",
       "      <td>-0.748366</td>\n",
       "      <td>0.770878</td>\n",
       "      <td>-4.060644</td>\n",
       "      <td>-0.309312</td>\n",
       "      <td>-3.324516</td>\n",
       "      <td>5.548689</td>\n",
       "      <td>3.036578</td>\n",
       "      <td>-0.772564</td>\n",
       "      <td>-3.580753</td>\n",
       "      <td>1.293789</td>\n",
       "      <td>-1.750037</td>\n",
       "      <td>-0.432314</td>\n",
       "      <td>1.807385</td>\n",
       "      <td>1.577574</td>\n",
       "      <td>-0.049841</td>\n",
       "      <td>2.262853</td>\n",
       "      <td>-2.444067</td>\n",
       "    </tr>\n",
       "    <tr>\n",
       "      <th>PC_4</th>\n",
       "      <td>1.364787</td>\n",
       "      <td>-3.560261</td>\n",
       "      <td>-0.692355</td>\n",
       "      <td>-1.119578</td>\n",
       "      <td>-1.697344</td>\n",
       "      <td>1.477752</td>\n",
       "      <td>4.132423</td>\n",
       "      <td>-0.701019</td>\n",
       "      <td>2.259759</td>\n",
       "      <td>-0.249438</td>\n",
       "      <td>-2.036532</td>\n",
       "      <td>0.720664</td>\n",
       "      <td>0.817633</td>\n",
       "      <td>0.250918</td>\n",
       "      <td>-1.123981</td>\n",
       "      <td>1.250915</td>\n",
       "      <td>-1.611817</td>\n",
       "      <td>0.071280</td>\n",
       "      <td>4.548044</td>\n",
       "      <td>1.819899</td>\n",
       "    </tr>\n",
       "    <tr>\n",
       "      <th>PC_5</th>\n",
       "      <td>-0.289798</td>\n",
       "      <td>0.159930</td>\n",
       "      <td>-1.147027</td>\n",
       "      <td>0.453627</td>\n",
       "      <td>-1.596673</td>\n",
       "      <td>1.066976</td>\n",
       "      <td>-0.164502</td>\n",
       "      <td>1.468541</td>\n",
       "      <td>-0.431494</td>\n",
       "      <td>0.604728</td>\n",
       "      <td>-1.407568</td>\n",
       "      <td>0.521789</td>\n",
       "      <td>0.801673</td>\n",
       "      <td>-3.743207</td>\n",
       "      <td>0.972773</td>\n",
       "      <td>0.672452</td>\n",
       "      <td>1.327167</td>\n",
       "      <td>-0.696280</td>\n",
       "      <td>-0.889738</td>\n",
       "      <td>1.559214</td>\n",
       "    </tr>\n",
       "    <tr>\n",
       "      <th>PC_6</th>\n",
       "      <td>0.217150</td>\n",
       "      <td>0.491339</td>\n",
       "      <td>-1.573417</td>\n",
       "      <td>-0.449041</td>\n",
       "      <td>1.943911</td>\n",
       "      <td>2.225826</td>\n",
       "      <td>1.365996</td>\n",
       "      <td>0.818434</td>\n",
       "      <td>0.478435</td>\n",
       "      <td>-1.032437</td>\n",
       "      <td>-0.314553</td>\n",
       "      <td>-0.775274</td>\n",
       "      <td>0.932537</td>\n",
       "      <td>-0.175344</td>\n",
       "      <td>-2.942259</td>\n",
       "      <td>0.304930</td>\n",
       "      <td>1.004538</td>\n",
       "      <td>-0.259935</td>\n",
       "      <td>-0.581320</td>\n",
       "      <td>-1.074496</td>\n",
       "    </tr>\n",
       "    <tr>\n",
       "      <th>PC_7</th>\n",
       "      <td>-1.406616</td>\n",
       "      <td>0.564846</td>\n",
       "      <td>-1.268192</td>\n",
       "      <td>-2.081025</td>\n",
       "      <td>0.426606</td>\n",
       "      <td>-1.111430</td>\n",
       "      <td>0.324318</td>\n",
       "      <td>1.472218</td>\n",
       "      <td>0.299604</td>\n",
       "      <td>1.022801</td>\n",
       "      <td>-0.124452</td>\n",
       "      <td>2.372499</td>\n",
       "      <td>0.026468</td>\n",
       "      <td>0.089772</td>\n",
       "      <td>-0.654900</td>\n",
       "      <td>-0.058632</td>\n",
       "      <td>0.344794</td>\n",
       "      <td>-1.824969</td>\n",
       "      <td>-0.725607</td>\n",
       "      <td>1.468157</td>\n",
       "    </tr>\n",
       "    <tr>\n",
       "      <th>PC_8</th>\n",
       "      <td>2.402046</td>\n",
       "      <td>-0.743684</td>\n",
       "      <td>0.100538</td>\n",
       "      <td>1.060740</td>\n",
       "      <td>0.820141</td>\n",
       "      <td>-1.101932</td>\n",
       "      <td>0.784422</td>\n",
       "      <td>-0.773088</td>\n",
       "      <td>0.544186</td>\n",
       "      <td>-1.441552</td>\n",
       "      <td>-0.524162</td>\n",
       "      <td>1.087309</td>\n",
       "      <td>0.761593</td>\n",
       "      <td>-1.249690</td>\n",
       "      <td>-1.246670</td>\n",
       "      <td>-0.667977</td>\n",
       "      <td>-0.400036</td>\n",
       "      <td>1.611290</td>\n",
       "      <td>1.156282</td>\n",
       "      <td>0.133364</td>\n",
       "    </tr>\n",
       "    <tr>\n",
       "      <th>PC_9</th>\n",
       "      <td>-0.086184</td>\n",
       "      <td>0.665850</td>\n",
       "      <td>0.364370</td>\n",
       "      <td>-2.848092</td>\n",
       "      <td>0.586501</td>\n",
       "      <td>0.138872</td>\n",
       "      <td>1.263885</td>\n",
       "      <td>0.801603</td>\n",
       "      <td>1.274787</td>\n",
       "      <td>-0.012666</td>\n",
       "      <td>-1.716451</td>\n",
       "      <td>-0.459714</td>\n",
       "      <td>0.905008</td>\n",
       "      <td>-0.016623</td>\n",
       "      <td>1.232107</td>\n",
       "      <td>-0.606753</td>\n",
       "      <td>-0.374013</td>\n",
       "      <td>-1.310869</td>\n",
       "      <td>0.572408</td>\n",
       "      <td>0.760289</td>\n",
       "    </tr>\n",
       "    <tr>\n",
       "      <th>PC_10</th>\n",
       "      <td>0.838752</td>\n",
       "      <td>-0.055864</td>\n",
       "      <td>-0.568940</td>\n",
       "      <td>-0.408195</td>\n",
       "      <td>-0.396806</td>\n",
       "      <td>-0.046721</td>\n",
       "      <td>0.229636</td>\n",
       "      <td>0.373337</td>\n",
       "      <td>0.161441</td>\n",
       "      <td>0.409695</td>\n",
       "      <td>1.632014</td>\n",
       "      <td>-0.217875</td>\n",
       "      <td>1.502333</td>\n",
       "      <td>-0.745551</td>\n",
       "      <td>0.273093</td>\n",
       "      <td>-0.295355</td>\n",
       "      <td>-1.265461</td>\n",
       "      <td>-0.039633</td>\n",
       "      <td>0.030868</td>\n",
       "      <td>0.171562</td>\n",
       "    </tr>\n",
       "  </tbody>\n",
       "</table>\n",
       "</div>"
      ],
      "text/plain": [
       "              1         2         3         4         5         6         7  \\\n",
       "PC_1   1.905997  4.531604 -4.813697  7.074930 -3.551885 -1.875682  7.860416   \n",
       "PC_2  -7.262118 -0.115629 -2.382396  3.280701  1.792943 -1.369799 -2.095910   \n",
       "PC_3   0.872820  1.744890 -0.543239 -0.748366  0.770878 -4.060644 -0.309312   \n",
       "PC_4   1.364787 -3.560261 -0.692355 -1.119578 -1.697344  1.477752  4.132423   \n",
       "PC_5  -0.289798  0.159930 -1.147027  0.453627 -1.596673  1.066976 -0.164502   \n",
       "PC_6   0.217150  0.491339 -1.573417 -0.449041  1.943911  2.225826  1.365996   \n",
       "PC_7  -1.406616  0.564846 -1.268192 -2.081025  0.426606 -1.111430  0.324318   \n",
       "PC_8   2.402046 -0.743684  0.100538  1.060740  0.820141 -1.101932  0.784422   \n",
       "PC_9  -0.086184  0.665850  0.364370 -2.848092  0.586501  0.138872  1.263885   \n",
       "PC_10  0.838752 -0.055864 -0.568940 -0.408195 -0.396806 -0.046721  0.229636   \n",
       "\n",
       "              8         9        10        11        12        13        14  \\\n",
       "PC_1   5.029053  6.710390  0.668914 -2.567855 -1.679784 -6.429204  4.323058   \n",
       "PC_2   0.111657 -2.372748  2.869728 -4.879402 -1.836162  7.035127  3.387420   \n",
       "PC_3  -3.324516  5.548689  3.036578 -0.772564 -3.580753  1.293789 -1.750037   \n",
       "PC_4  -0.701019  2.259759 -0.249438 -2.036532  0.720664  0.817633  0.250918   \n",
       "PC_5   1.468541 -0.431494  0.604728 -1.407568  0.521789  0.801673 -3.743207   \n",
       "PC_6   0.818434  0.478435 -1.032437 -0.314553 -0.775274  0.932537 -0.175344   \n",
       "PC_7   1.472218  0.299604  1.022801 -0.124452  2.372499  0.026468  0.089772   \n",
       "PC_8  -0.773088  0.544186 -1.441552 -0.524162  1.087309  0.761593 -1.249690   \n",
       "PC_9   0.801603  1.274787 -0.012666 -1.716451 -0.459714  0.905008 -0.016623   \n",
       "PC_10  0.373337  0.161441  0.409695  1.632014 -0.217875  1.502333 -0.745551   \n",
       "\n",
       "             15        16        17        18        19        20  \n",
       "PC_1   0.828306 -5.149334 -1.890514  1.457816 -0.138097 -0.595633  \n",
       "PC_2  -0.304395  1.049477 -2.282482  8.413409 -3.288864  3.803621  \n",
       "PC_3  -0.432314  1.807385  1.577574 -0.049841  2.262853 -2.444067  \n",
       "PC_4  -1.123981  1.250915 -1.611817  0.071280  4.548044  1.819899  \n",
       "PC_5   0.972773  0.672452  1.327167 -0.696280 -0.889738  1.559214  \n",
       "PC_6  -2.942259  0.304930  1.004538 -0.259935 -0.581320 -1.074496  \n",
       "PC_7  -0.654900 -0.058632  0.344794 -1.824969 -0.725607  1.468157  \n",
       "PC_8  -1.246670 -0.667977 -0.400036  1.611290  1.156282  0.133364  \n",
       "PC_9   1.232107 -0.606753 -0.374013 -1.310869  0.572408  0.760289  \n",
       "PC_10  0.273093 -0.295355 -1.265461 -0.039633  0.030868  0.171562  "
      ]
     },
     "execution_count": 91,
     "metadata": {},
     "output_type": "execute_result"
    }
   ],
   "source": [
    "# Print the Cluster Centroids with the first 10 PC dimension \n",
    "cluster_centroids.head(10)"
   ]
  },
  {
   "cell_type": "code",
   "execution_count": 92,
   "metadata": {
    "scrolled": false
   },
   "outputs": [
    {
     "data": {
      "image/png": "[encoded data removed]",
      "text/plain": [
       "<Figure size 720x432 with 2 Axes>"
      ]
     },
     "metadata": {
      "needs_background": "light"
     },
     "output_type": "display_data"
    }
   ],
   "source": [
    "# Display above data with Heatmap\n",
    "plt.figure(figsize = (10, 6))\n",
    "ax = sns.heatmap(cluster_centroids.head(10), annot=True, cmap='YlGnBu')\n",
    "ax.set_xlabel('Cluster')\n",
    "plt.title('Feature Values by Centroid')\n",
    "plt.show()"
   ]
  },
  {
   "cell_type": "markdown",
   "metadata": {},
   "source": [
    "**Conclusion:** the top 4 PCs seem to have dominant values against the others among all the clusters, we will only focus on those features in the next section. "
   ]
  },
  {
   "cell_type": "markdown",
   "metadata": {},
   "source": [
    "### 7. Cluster Analysis and Customer Segmentation \n",
    "In this part, we will draw the costomer's profile by analyzing the correlation between dominating features and customer ratio of the clusters: the higher customer ratio one cluster has, the better the characteristics of this cluster could describe our customers."
   ]
  },
  {
   "cell_type": "code",
   "execution_count": 93,
   "metadata": {},
   "outputs": [
    {
     "data": {
      "text/plain": [
       "16    22109\n",
       "17    20687\n",
       "3     18317\n",
       "5     16045\n",
       "13    11682\n",
       "11    10157\n",
       "10     9959\n",
       "2      5667\n",
       "18     4552\n",
       "15     4194\n",
       "4      2739\n",
       "19     2674\n",
       "9      2308\n",
       "6      2185\n",
       "1      1963\n",
       "14     1666\n",
       "20     1312\n",
       "12     1296\n",
       "8       512\n",
       "7       347\n",
       "dtype: int64"
      ]
     },
     "execution_count": 93,
     "metadata": {},
     "output_type": "execute_result"
    }
   ],
   "source": [
    "# Print the cluster distribustions of the customers\n",
    "customers_cluster_labels = cluster_labels[demo_labels_sub==1]\n",
    "\n",
    "customers_cluster_counts = customers_cluster_labels.value_counts()\n",
    "customers_cluster_counts"
   ]
  },
  {
   "cell_type": "code",
   "execution_count": 94,
   "metadata": {
    "scrolled": false
   },
   "outputs": [
    {
     "data": {
      "image/png": "[encoded data removed]",
      "text/plain": [
       "<Figure size 720x432 with 1 Axes>"
      ]
     },
     "metadata": {
      "needs_background": "light"
     },
     "output_type": "display_data"
    }
   ],
   "source": [
    "# Sort clusters by customer ratio in ascending order\n",
    "customuer_ratio_sorted = (customers_cluster_counts/cluster_counts).sort_values()\n",
    "\n",
    "# Plot customer ratio vs. cluster label\n",
    "customuer_ratio_sorted.plot(kind='bar', figsize=[10, 6])\n",
    "plt.xlabel('Cluster')\n",
    "plt.ylabel('Percent')\n",
    "plt.title('Customer Ratio over Clusters')\n",
    "plt.show()"
   ]
  },
  {
   "cell_type": "code",
   "execution_count": 95,
   "metadata": {},
   "outputs": [
    {
     "data": {
      "text/html": [
       "<div>\n",
       "<style scoped>\n",
       "    .dataframe tbody tr th:only-of-type {\n",
       "        vertical-align: middle;\n",
       "    }\n",
       "\n",
       "    .dataframe tbody tr th {\n",
       "        vertical-align: top;\n",
       "    }\n",
       "\n",
       "    .dataframe thead th {\n",
       "        text-align: right;\n",
       "    }\n",
       "</style>\n",
       "<table border=\"1\" class=\"dataframe\">\n",
       "  <thead>\n",
       "    <tr style=\"text-align: right;\">\n",
       "      <th></th>\n",
       "      <th>8</th>\n",
       "      <th>7</th>\n",
       "      <th>12</th>\n",
       "      <th>20</th>\n",
       "      <th>14</th>\n",
       "      <th>6</th>\n",
       "      <th>1</th>\n",
       "      <th>4</th>\n",
       "      <th>9</th>\n",
       "      <th>19</th>\n",
       "      <th>15</th>\n",
       "      <th>2</th>\n",
       "      <th>18</th>\n",
       "      <th>11</th>\n",
       "      <th>10</th>\n",
       "      <th>3</th>\n",
       "      <th>17</th>\n",
       "      <th>5</th>\n",
       "      <th>13</th>\n",
       "      <th>16</th>\n",
       "    </tr>\n",
       "  </thead>\n",
       "  <tbody>\n",
       "    <tr>\n",
       "      <th>PC_1</th>\n",
       "      <td>5.029053</td>\n",
       "      <td>7.860416</td>\n",
       "      <td>-1.679784</td>\n",
       "      <td>-0.595633</td>\n",
       "      <td>4.323058</td>\n",
       "      <td>-1.875682</td>\n",
       "      <td>1.905997</td>\n",
       "      <td>7.074930</td>\n",
       "      <td>6.710390</td>\n",
       "      <td>-0.138097</td>\n",
       "      <td>0.828306</td>\n",
       "      <td>4.531604</td>\n",
       "      <td>1.457816</td>\n",
       "      <td>-2.567855</td>\n",
       "      <td>0.668914</td>\n",
       "      <td>-4.813697</td>\n",
       "      <td>-1.890514</td>\n",
       "      <td>-3.551885</td>\n",
       "      <td>-6.429204</td>\n",
       "      <td>-5.149334</td>\n",
       "    </tr>\n",
       "    <tr>\n",
       "      <th>PC_2</th>\n",
       "      <td>0.111657</td>\n",
       "      <td>-2.095910</td>\n",
       "      <td>-1.836162</td>\n",
       "      <td>3.803621</td>\n",
       "      <td>3.387420</td>\n",
       "      <td>-1.369799</td>\n",
       "      <td>-7.262118</td>\n",
       "      <td>3.280701</td>\n",
       "      <td>-2.372748</td>\n",
       "      <td>-3.288864</td>\n",
       "      <td>-0.304395</td>\n",
       "      <td>-0.115629</td>\n",
       "      <td>8.413409</td>\n",
       "      <td>-4.879402</td>\n",
       "      <td>2.869728</td>\n",
       "      <td>-2.382396</td>\n",
       "      <td>-2.282482</td>\n",
       "      <td>1.792943</td>\n",
       "      <td>7.035127</td>\n",
       "      <td>1.049477</td>\n",
       "    </tr>\n",
       "    <tr>\n",
       "      <th>PC_3</th>\n",
       "      <td>-3.324516</td>\n",
       "      <td>-0.309312</td>\n",
       "      <td>-3.580753</td>\n",
       "      <td>-2.444067</td>\n",
       "      <td>-1.750037</td>\n",
       "      <td>-4.060644</td>\n",
       "      <td>0.872820</td>\n",
       "      <td>-0.748366</td>\n",
       "      <td>5.548689</td>\n",
       "      <td>2.262853</td>\n",
       "      <td>-0.432314</td>\n",
       "      <td>1.744890</td>\n",
       "      <td>-0.049841</td>\n",
       "      <td>-0.772564</td>\n",
       "      <td>3.036578</td>\n",
       "      <td>-0.543239</td>\n",
       "      <td>1.577574</td>\n",
       "      <td>0.770878</td>\n",
       "      <td>1.293789</td>\n",
       "      <td>1.807385</td>\n",
       "    </tr>\n",
       "    <tr>\n",
       "      <th>PC_4</th>\n",
       "      <td>-0.701019</td>\n",
       "      <td>4.132423</td>\n",
       "      <td>0.720664</td>\n",
       "      <td>1.819899</td>\n",
       "      <td>0.250918</td>\n",
       "      <td>1.477752</td>\n",
       "      <td>1.364787</td>\n",
       "      <td>-1.119578</td>\n",
       "      <td>2.259759</td>\n",
       "      <td>4.548044</td>\n",
       "      <td>-1.123981</td>\n",
       "      <td>-3.560261</td>\n",
       "      <td>0.071280</td>\n",
       "      <td>-2.036532</td>\n",
       "      <td>-0.249438</td>\n",
       "      <td>-0.692355</td>\n",
       "      <td>-1.611817</td>\n",
       "      <td>-1.697344</td>\n",
       "      <td>0.817633</td>\n",
       "      <td>1.250915</td>\n",
       "    </tr>\n",
       "  </tbody>\n",
       "</table>\n",
       "</div>"
      ],
      "text/plain": [
       "            8         7         12        20        14        6         1   \\\n",
       "PC_1  5.029053  7.860416 -1.679784 -0.595633  4.323058 -1.875682  1.905997   \n",
       "PC_2  0.111657 -2.095910 -1.836162  3.803621  3.387420 -1.369799 -7.262118   \n",
       "PC_3 -3.324516 -0.309312 -3.580753 -2.444067 -1.750037 -4.060644  0.872820   \n",
       "PC_4 -0.701019  4.132423  0.720664  1.819899  0.250918  1.477752  1.364787   \n",
       "\n",
       "            4         9         19        15        2         18        11  \\\n",
       "PC_1  7.074930  6.710390 -0.138097  0.828306  4.531604  1.457816 -2.567855   \n",
       "PC_2  3.280701 -2.372748 -3.288864 -0.304395 -0.115629  8.413409 -4.879402   \n",
       "PC_3 -0.748366  5.548689  2.262853 -0.432314  1.744890 -0.049841 -0.772564   \n",
       "PC_4 -1.119578  2.259759  4.548044 -1.123981 -3.560261  0.071280 -2.036532   \n",
       "\n",
       "            10        3         17        5         13        16  \n",
       "PC_1  0.668914 -4.813697 -1.890514 -3.551885 -6.429204 -5.149334  \n",
       "PC_2  2.869728 -2.382396 -2.282482  1.792943  7.035127  1.049477  \n",
       "PC_3  3.036578 -0.543239  1.577574  0.770878  1.293789  1.807385  \n",
       "PC_4 -0.249438 -0.692355 -1.611817 -1.697344  0.817633  1.250915  "
      ]
     },
     "execution_count": 95,
     "metadata": {},
     "output_type": "execute_result"
    }
   ],
   "source": [
    "# Print the Centroids with the top 4 PC dimension\n",
    "cluster_centroids.iloc[0:4, customuer_ratio_sorted.index.to_numpy()-1]"
   ]
  },
  {
   "cell_type": "code",
   "execution_count": 96,
   "metadata": {},
   "outputs": [
    {
     "data": {
      "image/png": "[encoded data removed]",
      "text/plain": [
       "<Figure size 720x360 with 2 Axes>"
      ]
     },
     "metadata": {
      "needs_background": "light"
     },
     "output_type": "display_data"
    }
   ],
   "source": [
    "# Display the data above with heatmap \n",
    "plt.figure(figsize = (10, 5))\n",
    "ax = sns.heatmap(cluster_centroids.iloc[0:4, customuer_ratio_sorted.index.to_numpy()-1], annot=True, cmap='YlGnBu')\n",
    "ax.set_xlabel('Cluster')\n",
    "plt.title('Feature Values by Centroid')\n",
    "plt.show()"
   ]
  },
  {
   "cell_type": "markdown",
   "metadata": {},
   "source": [
    "**Conclusion:**\n",
    "\n",
    "1. *PC_1* (lower class index) is significantly negative correlated with customer ratio over all clusters.\n",
    "\n",
    "2. *PC_2* (Urban Area/Metropolis Index) dosn't show constistent correlation with customer ratio.\n",
    "\n",
    "3. *PC_3* (Financial Awareness Index) has positive correlation with customer ratio.\n",
    "\n",
    "4. *PC_4* (Performance-Cars Region Index) has negative correlation with customer ratio.\n"
   ]
  },
  {
   "cell_type": "markdown",
   "metadata": {},
   "source": [
    "#### CUSTOMER PROFILE:\n",
    "\n",
    "*Our customers have good income and high social status; they might live in urban area and metropolis as well as rural area and small towns; they are elder people who save money and have active financial investment; they are yong people live in regions with high share of small low power cars.*\n"
   ]
  },
  {
   "cell_type": "markdown",
   "metadata": {},
   "source": [
    "### 8. Customer Segmentation with Categorical Variables"
   ]
  },
  {
   "cell_type": "code",
   "execution_count": 95,
   "metadata": {},
   "outputs": [
    {
     "data": {
      "text/plain": [
       "Index(['CAMEO_DEU_2015', 'LP_FAMILIE_FEIN', 'PRAEGENDE_JUGENDJAHRE',\n",
       "       'ANREDE_KZ', 'GEBAEUDETYP', 'GFK_URLAUBERTYP', 'GREEN_AVANTGARDE',\n",
       "       'HEALTH_TYP', 'NATIONALITAET_KZ', 'OST_WEST_KZ', 'SHOPPER_TYP',\n",
       "       'SOHO_KZ', 'VERS_TYP'],\n",
       "      dtype='object')"
      ]
     },
     "execution_count": 95,
     "metadata": {},
     "output_type": "execute_result"
    }
   ],
   "source": [
    "# Check out names of categorical features\n",
    "feature_categorical_names = features_categorical.columns\n",
    "feature_categorical_names"
   ]
  },
  {
   "cell_type": "code",
   "execution_count": 96,
   "metadata": {},
   "outputs": [],
   "source": [
    "# Extract categorical features and class labels\n",
    "data_categorical = features_categorical\n",
    "data_categorical['CLASS'] = demo_labels_sub"
   ]
  },
  {
   "cell_type": "code",
   "execution_count": 97,
   "metadata": {},
   "outputs": [],
   "source": [
    "# Delete redundant variable\n",
    "del features_categorical"
   ]
  },
  {
   "cell_type": "markdown",
   "metadata": {},
   "source": [
    "#### 1. For Simplicity and Interpretability, Select Only The Most Informative Ones"
   ]
  },
  {
   "cell_type": "code",
   "execution_count": 98,
   "metadata": {},
   "outputs": [],
   "source": [
    "from sklearn.preprocessing import OrdinalEncoder, LabelEncoder\n",
    "from sklearn.feature_selection import SelectKBest, mutual_info_classif"
   ]
  },
  {
   "cell_type": "code",
   "execution_count": 99,
   "metadata": {},
   "outputs": [],
   "source": [
    "# Prepare input data\n",
    "oe = OrdinalEncoder()\n",
    "X_categorical_encoded = oe.fit_transform(data_categorical.drop(columns=['CLASS']).astype('str'))\n",
    "\n",
    "le = LabelEncoder()\n",
    "y_categorical_encoded = le.fit_transform(data_categorical['CLASS'].astype('str'))"
   ]
  },
  {
   "cell_type": "code",
   "execution_count": 100,
   "metadata": {},
   "outputs": [
    {
     "data": {
      "text/plain": [
       "SelectKBest(k='all', score_func=<function mutual_info_classif at 0x1a29d83cb0>)"
      ]
     },
     "execution_count": 100,
     "metadata": {},
     "output_type": "execute_result"
    }
   ],
   "source": [
    "# Calculate scores of features' predictive ability\n",
    "fs = SelectKBest(score_func=mutual_info_classif, k='all')\n",
    "fs.fit(X_categorical_encoded, y_categorical_encoded)"
   ]
  },
  {
   "cell_type": "code",
   "execution_count": 101,
   "metadata": {
    "scrolled": false
   },
   "outputs": [
    {
     "name": "stdout",
     "output_type": "stream",
     "text": [
      "Feature 0: 0.024959\n",
      "Feature 1: 0.029728\n",
      "Feature 2: 0.095534\n",
      "Feature 3: 0.055206\n",
      "Feature 4: 0.035973\n",
      "Feature 5: 0.031922\n",
      "Feature 6: 0.032456\n",
      "Feature 7: 0.067898\n",
      "Feature 8: 0.012359\n",
      "Feature 9: 0.113596\n",
      "Feature 10: 0.047746\n",
      "Feature 11: 0.000000\n",
      "Feature 12: 0.044108\n"
     ]
    },
    {
     "data": {
      "image/png": "[encoded data removed]",
      "text/plain": [
       "<Figure size 576x360 with 1 Axes>"
      ]
     },
     "metadata": {
      "needs_background": "light"
     },
     "output_type": "display_data"
    }
   ],
   "source": [
    "# Print the scores\n",
    "for i in range(len(fs.scores_)):\n",
    "    print('Feature %d: %f' % (i, fs.scores_[i]))\n",
    "    \n",
    "# Plot the scores\n",
    "plt.figure(figsize = (8, 5))\n",
    "plt.bar([i for i in range(len(fs.scores_))], fs.scores_)\n",
    "plt.show()"
   ]
  },
  {
   "cell_type": "markdown",
   "metadata": {},
   "source": [
    "**Conclusion:** 2, 3, 7, 9 are most relevant, we will keep them only."
   ]
  },
  {
   "cell_type": "code",
   "execution_count": 102,
   "metadata": {},
   "outputs": [
    {
     "data": {
      "text/plain": [
       "Index(['PRAEGENDE_JUGENDJAHRE', 'ANREDE_KZ', 'HEALTH_TYP', 'OST_WEST_KZ'], dtype='object')"
      ]
     },
     "execution_count": 102,
     "metadata": {},
     "output_type": "execute_result"
    }
   ],
   "source": [
    "# Check out the names of selected features\n",
    "categorical_feature_names_selected = feature_categorical_names[[2, 3, 7, 9]]\n",
    "categorical_feature_names_selected"
   ]
  },
  {
   "cell_type": "markdown",
   "metadata": {},
   "source": [
    "#### 2. Customer Analysis"
   ]
  },
  {
   "cell_type": "code",
   "execution_count": 103,
   "metadata": {},
   "outputs": [],
   "source": [
    "def display_customer_ratios_of_categories(feature_name, data_categorical):\n",
    "    \"\"\"\n",
    "    The function barplots customer ratios in ascending order against categories.\n",
    "    \"\"\"\n",
    "    \n",
    "    customers_value_counts = data_categorical.loc[data_categorical.CLASS==1, feature_name].value_counts()\n",
    "    all_value_counts = data_categorical[feature_name].value_counts()\n",
    "    \n",
    "    customer_ratio = (customers_value_counts/all_value_counts).sort_values()\n",
    "    \n",
    "    if customer_ratio.index.to_numpy().dtype == 'float64':\n",
    "        customer_ratio.index = customer_ratio.index.to_numpy().astype('int')\n",
    "    \n",
    "    customer_ratio.plot(kind='bar', figsize=[8, 4])\n",
    "    plt.xlabel('Category')\n",
    "    plt.ylabel('Customer Ratio')\n",
    "    plt.title(feature_name)"
   ]
  },
  {
   "cell_type": "code",
   "execution_count": 104,
   "metadata": {
    "scrolled": false
   },
   "outputs": [
    {
     "data": {
      "image/png": "[encoded data removed]",
      "text/plain": [
       "<Figure size 576x288 with 1 Axes>"
      ]
     },
     "metadata": {
      "needs_background": "light"
     },
     "output_type": "display_data"
    }
   ],
   "source": [
    "# Display customer ratio distribution of PRAEGENDE_JUGENDJAHRE\n",
    "display_customer_ratios_of_categories(categorical_feature_names_selected[0], data_categorical)"
   ]
  },
  {
   "cell_type": "markdown",
   "metadata": {},
   "source": [
    "**Conclusion:** surprisingly, category 2 and 4 has significantly high customer proportion, it's even biger than gerneral population proportion. This implies that people born in 40ies-reconstruction years and 50ies-milk bar/Individualisation time are more likely to be our customers."
   ]
  },
  {
   "cell_type": "code",
   "execution_count": 105,
   "metadata": {},
   "outputs": [
    {
     "data": {
      "image/png": "[encoded data removed]",
      "text/plain": [
       "<Figure size 576x288 with 1 Axes>"
      ]
     },
     "metadata": {
      "needs_background": "light"
     },
     "output_type": "display_data"
    }
   ],
   "source": [
    "# Display customer ratio distribution of ANREDE_KZ\n",
    "display_customer_ratios_of_categories(categorical_feature_names_selected[1], data_categorical)"
   ]
  },
  {
   "cell_type": "markdown",
   "metadata": {},
   "source": [
    "**Conclusion:** males are more likely to be our customers as females."
   ]
  },
  {
   "cell_type": "code",
   "execution_count": 106,
   "metadata": {},
   "outputs": [
    {
     "data": {
      "image/png": "[encoded data removed]",
      "text/plain": [
       "<Figure size 576x288 with 1 Axes>"
      ]
     },
     "metadata": {
      "needs_background": "light"
     },
     "output_type": "display_data"
    }
   ],
   "source": [
    "# Display customer ratio distribution of HEALTH_TYP\n",
    "display_customer_ratios_of_categories(categorical_feature_names_selected[2], data_categorical)"
   ]
  },
  {
   "cell_type": "markdown",
   "metadata": {},
   "source": [
    "**Conclusion:** critical-reserved health type is most likely to be our customer, followed by sanitary-affine and aunty-hedonists."
   ]
  },
  {
   "cell_type": "code",
   "execution_count": 107,
   "metadata": {},
   "outputs": [
    {
     "data": {
      "image/png": "[encoded data removed]",
      "text/plain": [
       "<Figure size 576x288 with 1 Axes>"
      ]
     },
     "metadata": {
      "needs_background": "light"
     },
     "output_type": "display_data"
    }
   ],
   "source": [
    "# Display customer ratio distribution of OST_WEST_KZ\n",
    "display_customer_ratios_of_categories(categorical_feature_names_selected[3], data_categorical)"
   ]
  },
  {
   "cell_type": "markdown",
   "metadata": {},
   "source": [
    "**Conclusion:** people live in former West Germany are much more likely to become our customers than in former East Germany."
   ]
  },
  {
   "cell_type": "code",
   "execution_count": null,
   "metadata": {},
   "outputs": [],
   "source": []
  }
 ],
 "metadata": {
  "kernelspec": {
   "display_name": "Python 3",
   "language": "python",
   "name": "python3"
  },
  "language_info": {
   "codemirror_mode": {
    "name": "ipython",
    "version": 3
   },
   "file_extension": ".py",
   "mimetype": "text/x-python",
   "name": "python",
   "nbconvert_exporter": "python",
   "pygments_lexer": "ipython3",
   "version": "3.7.6"
  }
 },
 "nbformat": 4,
 "nbformat_minor": 2
}
